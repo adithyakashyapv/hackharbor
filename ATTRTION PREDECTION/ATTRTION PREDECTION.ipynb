{
 "cells": [
  {
   "cell_type": "markdown",
   "id": "0a0332e3",
   "metadata": {},
   "source": [
    "# ATTRTION PREDECTION"
   ]
  },
  {
   "cell_type": "code",
   "execution_count": 279,
   "id": "cabc0285",
   "metadata": {},
   "outputs": [],
   "source": [
    "#Importing the basic libearies to understand the data given\n",
    "import pandas as pd\n",
    "import numpy as np\n",
    "import seaborn as sns\n",
    "import matplotlib.pyplot as plt"
   ]
  },
  {
   "cell_type": "code",
   "execution_count": 280,
   "id": "2752982f",
   "metadata": {},
   "outputs": [
    {
     "data": {
      "text/html": [
       "<div>\n",
       "<style scoped>\n",
       "    .dataframe tbody tr th:only-of-type {\n",
       "        vertical-align: middle;\n",
       "    }\n",
       "\n",
       "    .dataframe tbody tr th {\n",
       "        vertical-align: top;\n",
       "    }\n",
       "\n",
       "    .dataframe thead th {\n",
       "        text-align: right;\n",
       "    }\n",
       "</style>\n",
       "<table border=\"1\" class=\"dataframe\">\n",
       "  <thead>\n",
       "    <tr style=\"text-align: right;\">\n",
       "      <th></th>\n",
       "      <th>EmployeeID</th>\n",
       "      <th>Attrition</th>\n",
       "      <th>Age</th>\n",
       "      <th>TravelProfile</th>\n",
       "      <th>Department</th>\n",
       "      <th>HomeToWork</th>\n",
       "      <th>EducationField</th>\n",
       "      <th>Gender</th>\n",
       "      <th>HourlnWeek</th>\n",
       "      <th>Involvement</th>\n",
       "      <th>...</th>\n",
       "      <th>JobSatisfaction</th>\n",
       "      <th>ESOPs</th>\n",
       "      <th>NumCompaniesWorked</th>\n",
       "      <th>OverTime</th>\n",
       "      <th>SalaryHikelastYear</th>\n",
       "      <th>WorkExperience</th>\n",
       "      <th>LastPromotion</th>\n",
       "      <th>CurrentProfile</th>\n",
       "      <th>MaritalStatus</th>\n",
       "      <th>MonthlyIncome</th>\n",
       "    </tr>\n",
       "  </thead>\n",
       "  <tbody>\n",
       "    <tr>\n",
       "      <th>0</th>\n",
       "      <td>5110001.0</td>\n",
       "      <td>0.0</td>\n",
       "      <td>35.0</td>\n",
       "      <td>Rarely</td>\n",
       "      <td>Analytics</td>\n",
       "      <td>5.0</td>\n",
       "      <td>CA</td>\n",
       "      <td>Male</td>\n",
       "      <td>69.0</td>\n",
       "      <td>1.0</td>\n",
       "      <td>...</td>\n",
       "      <td>1.0</td>\n",
       "      <td>1.0</td>\n",
       "      <td>1.0</td>\n",
       "      <td>1.0</td>\n",
       "      <td>20.0</td>\n",
       "      <td>7.0</td>\n",
       "      <td>2.0</td>\n",
       "      <td>NaN</td>\n",
       "      <td>M</td>\n",
       "      <td>18932.0</td>\n",
       "    </tr>\n",
       "    <tr>\n",
       "      <th>1</th>\n",
       "      <td>5110002.0</td>\n",
       "      <td>1.0</td>\n",
       "      <td>32.0</td>\n",
       "      <td>Yes</td>\n",
       "      <td>Sales</td>\n",
       "      <td>5.0</td>\n",
       "      <td>Statistics</td>\n",
       "      <td>Female</td>\n",
       "      <td>62.0</td>\n",
       "      <td>4.0</td>\n",
       "      <td>...</td>\n",
       "      <td>2.0</td>\n",
       "      <td>0.0</td>\n",
       "      <td>8.0</td>\n",
       "      <td>0.0</td>\n",
       "      <td>20.0</td>\n",
       "      <td>4.0</td>\n",
       "      <td>1.0</td>\n",
       "      <td>NaN</td>\n",
       "      <td>Single</td>\n",
       "      <td>18785.0</td>\n",
       "    </tr>\n",
       "    <tr>\n",
       "      <th>2</th>\n",
       "      <td>5110003.0</td>\n",
       "      <td>0.0</td>\n",
       "      <td>31.0</td>\n",
       "      <td>Rarely</td>\n",
       "      <td>Analytics</td>\n",
       "      <td>5.0</td>\n",
       "      <td>Statistics</td>\n",
       "      <td>F</td>\n",
       "      <td>45.0</td>\n",
       "      <td>5.0</td>\n",
       "      <td>...</td>\n",
       "      <td>2.0</td>\n",
       "      <td>1.0</td>\n",
       "      <td>3.0</td>\n",
       "      <td>0.0</td>\n",
       "      <td>26.0</td>\n",
       "      <td>12.0</td>\n",
       "      <td>1.0</td>\n",
       "      <td>3.0</td>\n",
       "      <td>Single</td>\n",
       "      <td>22091.0</td>\n",
       "    </tr>\n",
       "    <tr>\n",
       "      <th>3</th>\n",
       "      <td>5110004.0</td>\n",
       "      <td>0.0</td>\n",
       "      <td>34.0</td>\n",
       "      <td>Yes</td>\n",
       "      <td>Sales</td>\n",
       "      <td>10.0</td>\n",
       "      <td>Statistics</td>\n",
       "      <td>Female</td>\n",
       "      <td>32.0</td>\n",
       "      <td>3.0</td>\n",
       "      <td>...</td>\n",
       "      <td>4.0</td>\n",
       "      <td>1.0</td>\n",
       "      <td>1.0</td>\n",
       "      <td>0.0</td>\n",
       "      <td>23.0</td>\n",
       "      <td>5.0</td>\n",
       "      <td>1.0</td>\n",
       "      <td>3.0</td>\n",
       "      <td>Divorsed</td>\n",
       "      <td>20302.0</td>\n",
       "    </tr>\n",
       "    <tr>\n",
       "      <th>4</th>\n",
       "      <td>5110005.0</td>\n",
       "      <td>0.0</td>\n",
       "      <td>37.0</td>\n",
       "      <td>No</td>\n",
       "      <td>Analytics</td>\n",
       "      <td>27.0</td>\n",
       "      <td>Statistics</td>\n",
       "      <td>Female</td>\n",
       "      <td>49.0</td>\n",
       "      <td>3.0</td>\n",
       "      <td>...</td>\n",
       "      <td>4.0</td>\n",
       "      <td>1.0</td>\n",
       "      <td>8.0</td>\n",
       "      <td>0.0</td>\n",
       "      <td>21.0</td>\n",
       "      <td>12.0</td>\n",
       "      <td>1.0</td>\n",
       "      <td>9.0</td>\n",
       "      <td>Divorsed</td>\n",
       "      <td>21674.0</td>\n",
       "    </tr>\n",
       "  </tbody>\n",
       "</table>\n",
       "<p>5 rows × 22 columns</p>\n",
       "</div>"
      ],
      "text/plain": [
       "   EmployeeID  Attrition   Age TravelProfile Department  HomeToWork  \\\n",
       "0   5110001.0        0.0  35.0        Rarely  Analytics         5.0   \n",
       "1   5110002.0        1.0  32.0           Yes      Sales         5.0   \n",
       "2   5110003.0        0.0  31.0        Rarely  Analytics         5.0   \n",
       "3   5110004.0        0.0  34.0           Yes      Sales        10.0   \n",
       "4   5110005.0        0.0  37.0            No  Analytics        27.0   \n",
       "\n",
       "  EducationField  Gender  HourlnWeek  Involvement  ...  JobSatisfaction ESOPs  \\\n",
       "0             CA    Male        69.0          1.0  ...              1.0   1.0   \n",
       "1     Statistics  Female        62.0          4.0  ...              2.0   0.0   \n",
       "2     Statistics       F        45.0          5.0  ...              2.0   1.0   \n",
       "3     Statistics  Female        32.0          3.0  ...              4.0   1.0   \n",
       "4     Statistics  Female        49.0          3.0  ...              4.0   1.0   \n",
       "\n",
       "   NumCompaniesWorked  OverTime  SalaryHikelastYear  WorkExperience  \\\n",
       "0                 1.0       1.0                20.0             7.0   \n",
       "1                 8.0       0.0                20.0             4.0   \n",
       "2                 3.0       0.0                26.0            12.0   \n",
       "3                 1.0       0.0                23.0             5.0   \n",
       "4                 8.0       0.0                21.0            12.0   \n",
       "\n",
       "   LastPromotion  CurrentProfile  MaritalStatus  MonthlyIncome  \n",
       "0            2.0             NaN              M        18932.0  \n",
       "1            1.0             NaN         Single        18785.0  \n",
       "2            1.0             3.0         Single        22091.0  \n",
       "3            1.0             3.0       Divorsed        20302.0  \n",
       "4            1.0             9.0       Divorsed        21674.0  \n",
       "\n",
       "[5 rows x 22 columns]"
      ]
     },
     "execution_count": 280,
     "metadata": {},
     "output_type": "execute_result"
    }
   ],
   "source": [
    "#importing the data set\n",
    "data = pd.read_csv(\"Train_Dataset.csv\")\n",
    "data.head()"
   ]
  },
  {
   "cell_type": "code",
   "execution_count": 281,
   "id": "0409660d",
   "metadata": {},
   "outputs": [
    {
     "data": {
      "text/plain": [
       "0.0    2639\n",
       "1.0    2541\n",
       "Name: ESOPs, dtype: int64"
      ]
     },
     "execution_count": 281,
     "metadata": {},
     "output_type": "execute_result"
    }
   ],
   "source": [
    "data.ESOPs.value_counts()"
   ]
  },
  {
   "cell_type": "markdown",
   "id": "d2dbe8f8",
   "metadata": {},
   "source": [
    "**Exploring The Data**"
   ]
  },
  {
   "cell_type": "code",
   "execution_count": 282,
   "id": "da9c75d3",
   "metadata": {},
   "outputs": [
    {
     "data": {
      "text/plain": [
       "Index(['EmployeeID', 'Attrition', 'Age', 'TravelProfile', 'Department',\n",
       "       'HomeToWork', 'EducationField', 'Gender', 'HourlnWeek', 'Involvement',\n",
       "       'WorkLifeBalance', 'Designation', 'JobSatisfaction', 'ESOPs',\n",
       "       'NumCompaniesWorked', 'OverTime', 'SalaryHikelastYear',\n",
       "       'WorkExperience', 'LastPromotion', 'CurrentProfile', 'MaritalStatus',\n",
       "       'MonthlyIncome'],\n",
       "      dtype='object')"
      ]
     },
     "execution_count": 282,
     "metadata": {},
     "output_type": "execute_result"
    }
   ],
   "source": [
    "data.columns"
   ]
  },
  {
   "cell_type": "code",
   "execution_count": 283,
   "id": "d06e55f0",
   "metadata": {},
   "outputs": [
    {
     "data": {
      "text/plain": [
       "EmployeeID            float64\n",
       "Attrition             float64\n",
       "Age                   float64\n",
       "TravelProfile          object\n",
       "Department             object\n",
       "HomeToWork            float64\n",
       "EducationField         object\n",
       "Gender                 object\n",
       "HourlnWeek            float64\n",
       "Involvement           float64\n",
       "WorkLifeBalance       float64\n",
       "Designation            object\n",
       "JobSatisfaction       float64\n",
       "ESOPs                 float64\n",
       "NumCompaniesWorked    float64\n",
       "OverTime              float64\n",
       "SalaryHikelastYear    float64\n",
       "WorkExperience        float64\n",
       "LastPromotion         float64\n",
       "CurrentProfile        float64\n",
       "MaritalStatus          object\n",
       "MonthlyIncome         float64\n",
       "dtype: object"
      ]
     },
     "execution_count": 283,
     "metadata": {},
     "output_type": "execute_result"
    }
   ],
   "source": [
    "data.dtypes"
   ]
  },
  {
   "cell_type": "code",
   "execution_count": 284,
   "id": "cc4fc38f",
   "metadata": {},
   "outputs": [],
   "source": [
    "data.dropna(axis = 0, how=\"all\", inplace=True)"
   ]
  },
  {
   "cell_type": "code",
   "execution_count": 285,
   "id": "1ba427be",
   "metadata": {},
   "outputs": [
    {
     "data": {
      "text/plain": [
       "EmployeeID              0\n",
       "Attrition               0\n",
       "Age                   316\n",
       "TravelProfile           0\n",
       "Department            124\n",
       "HomeToWork            255\n",
       "EducationField          0\n",
       "Gender                 46\n",
       "HourlnWeek            287\n",
       "Involvement             0\n",
       "WorkLifeBalance         0\n",
       "Designation            38\n",
       "JobSatisfaction         0\n",
       "ESOPs                   0\n",
       "NumCompaniesWorked      0\n",
       "OverTime                0\n",
       "SalaryHikelastYear    169\n",
       "WorkExperience        187\n",
       "LastPromotion          70\n",
       "CurrentProfile        311\n",
       "MaritalStatus           0\n",
       "MonthlyIncome          93\n",
       "dtype: int64"
      ]
     },
     "execution_count": 285,
     "metadata": {},
     "output_type": "execute_result"
    }
   ],
   "source": [
    "data.isnull().sum()"
   ]
  },
  {
   "cell_type": "code",
   "execution_count": 286,
   "id": "1953e374",
   "metadata": {},
   "outputs": [
    {
     "data": {
      "text/plain": [
       "Male      3094\n",
       "Female    1338\n",
       "F          702\n",
       "Name: Gender, dtype: int64"
      ]
     },
     "execution_count": 286,
     "metadata": {},
     "output_type": "execute_result"
    }
   ],
   "source": [
    "data.Gender.value_counts()"
   ]
  },
  {
   "cell_type": "code",
   "execution_count": 287,
   "id": "666de8bf",
   "metadata": {},
   "outputs": [],
   "source": [
    "data.Gender.replace(\"F\",\"Female\", inplace=True)"
   ]
  },
  {
   "cell_type": "code",
   "execution_count": 288,
   "id": "5c9d0d38",
   "metadata": {},
   "outputs": [
    {
     "data": {
      "text/plain": [
       "Male      3094\n",
       "Female    2040\n",
       "Name: Gender, dtype: int64"
      ]
     },
     "execution_count": 288,
     "metadata": {},
     "output_type": "execute_result"
    }
   ],
   "source": [
    "data.Gender.value_counts()"
   ]
  },
  {
   "cell_type": "code",
   "execution_count": 289,
   "id": "148bd824",
   "metadata": {},
   "outputs": [
    {
     "data": {
      "text/plain": [
       "Single      1776\n",
       "Married     1614\n",
       "Divorsed    1016\n",
       "M            774\n",
       "Name: MaritalStatus, dtype: int64"
      ]
     },
     "execution_count": 289,
     "metadata": {},
     "output_type": "execute_result"
    }
   ],
   "source": [
    "data.MaritalStatus.value_counts()"
   ]
  },
  {
   "cell_type": "code",
   "execution_count": 290,
   "id": "81af1832",
   "metadata": {},
   "outputs": [],
   "source": [
    "data.MaritalStatus.replace(\"M\",\"Married\", inplace=True)"
   ]
  },
  {
   "cell_type": "code",
   "execution_count": 291,
   "id": "71fafe76",
   "metadata": {},
   "outputs": [
    {
     "data": {
      "text/plain": [
       "Married     2388\n",
       "Single      1776\n",
       "Divorsed    1016\n",
       "Name: MaritalStatus, dtype: int64"
      ]
     },
     "execution_count": 291,
     "metadata": {},
     "output_type": "execute_result"
    }
   ],
   "source": [
    "data.MaritalStatus.value_counts()"
   ]
  },
  {
   "cell_type": "code",
   "execution_count": 292,
   "id": "cd9a2ec1",
   "metadata": {},
   "outputs": [
    {
     "data": {
      "text/plain": [
       "Rarely    3637\n",
       "Yes       1051\n",
       "No         492\n",
       "Name: TravelProfile, dtype: int64"
      ]
     },
     "execution_count": 292,
     "metadata": {},
     "output_type": "execute_result"
    }
   ],
   "source": [
    "data.TravelProfile.value_counts()"
   ]
  },
  {
   "cell_type": "code",
   "execution_count": 293,
   "id": "aceff03e",
   "metadata": {},
   "outputs": [
    {
     "data": {
      "text/plain": [
       "Analytics    3219\n",
       "Sales        1615\n",
       "Marketing     222\n",
       "Name: Department, dtype: int64"
      ]
     },
     "execution_count": 293,
     "metadata": {},
     "output_type": "execute_result"
    }
   ],
   "source": [
    "data.Department.value_counts()"
   ]
  },
  {
   "cell_type": "code",
   "execution_count": 294,
   "id": "8ebb788d",
   "metadata": {},
   "outputs": [
    {
     "name": "stdout",
     "output_type": "stream",
     "text": [
      "<class 'pandas.core.frame.DataFrame'>\n",
      "Int64Index: 5180 entries, 0 to 5179\n",
      "Data columns (total 22 columns):\n",
      " #   Column              Non-Null Count  Dtype  \n",
      "---  ------              --------------  -----  \n",
      " 0   EmployeeID          5180 non-null   float64\n",
      " 1   Attrition           5180 non-null   float64\n",
      " 2   Age                 4864 non-null   float64\n",
      " 3   TravelProfile       5180 non-null   object \n",
      " 4   Department          5056 non-null   object \n",
      " 5   HomeToWork          4925 non-null   float64\n",
      " 6   EducationField      5180 non-null   object \n",
      " 7   Gender              5134 non-null   object \n",
      " 8   HourlnWeek          4893 non-null   float64\n",
      " 9   Involvement         5180 non-null   float64\n",
      " 10  WorkLifeBalance     5180 non-null   float64\n",
      " 11  Designation         5142 non-null   object \n",
      " 12  JobSatisfaction     5180 non-null   float64\n",
      " 13  ESOPs               5180 non-null   float64\n",
      " 14  NumCompaniesWorked  5180 non-null   float64\n",
      " 15  OverTime            5180 non-null   float64\n",
      " 16  SalaryHikelastYear  5011 non-null   float64\n",
      " 17  WorkExperience      4993 non-null   float64\n",
      " 18  LastPromotion       5110 non-null   float64\n",
      " 19  CurrentProfile      4869 non-null   float64\n",
      " 20  MaritalStatus       5180 non-null   object \n",
      " 21  MonthlyIncome       5087 non-null   float64\n",
      "dtypes: float64(16), object(6)\n",
      "memory usage: 930.8+ KB\n"
     ]
    }
   ],
   "source": [
    "data.info()"
   ]
  },
  {
   "cell_type": "code",
   "execution_count": 295,
   "id": "635ce14f",
   "metadata": {},
   "outputs": [
    {
     "data": {
      "text/plain": [
       "Statistics           2129\n",
       "CA                   1560\n",
       "Marketing Diploma     603\n",
       "Engineer              487\n",
       "Other                 284\n",
       "MBA                   117\n",
       "Name: EducationField, dtype: int64"
      ]
     },
     "execution_count": 295,
     "metadata": {},
     "output_type": "execute_result"
    }
   ],
   "source": [
    "data.EducationField.value_counts()"
   ]
  },
  {
   "cell_type": "code",
   "execution_count": 296,
   "id": "8421a0f8",
   "metadata": {},
   "outputs": [
    {
     "data": {
      "text/plain": [
       "Executive         2072\n",
       "Manager           1756\n",
       "Senior Manager     763\n",
       "AVP                328\n",
       "VP                 223\n",
       "Name: Designation, dtype: int64"
      ]
     },
     "execution_count": 296,
     "metadata": {},
     "output_type": "execute_result"
    }
   ],
   "source": [
    "data.Designation.value_counts()"
   ]
  },
  {
   "cell_type": "code",
   "execution_count": 297,
   "id": "379e3bfa",
   "metadata": {},
   "outputs": [
    {
     "name": "stdout",
     "output_type": "stream",
     "text": [
      "<class 'pandas.core.frame.DataFrame'>\n",
      "Int64Index: 5180 entries, 0 to 5179\n",
      "Data columns (total 22 columns):\n",
      " #   Column              Non-Null Count  Dtype  \n",
      "---  ------              --------------  -----  \n",
      " 0   EmployeeID          5180 non-null   float64\n",
      " 1   Attrition           5180 non-null   float64\n",
      " 2   Age                 4864 non-null   float64\n",
      " 3   TravelProfile       5180 non-null   object \n",
      " 4   Department          5056 non-null   object \n",
      " 5   HomeToWork          4925 non-null   float64\n",
      " 6   EducationField      5180 non-null   object \n",
      " 7   Gender              5134 non-null   object \n",
      " 8   HourlnWeek          4893 non-null   float64\n",
      " 9   Involvement         5180 non-null   float64\n",
      " 10  WorkLifeBalance     5180 non-null   float64\n",
      " 11  Designation         5142 non-null   object \n",
      " 12  JobSatisfaction     5180 non-null   float64\n",
      " 13  ESOPs               5180 non-null   float64\n",
      " 14  NumCompaniesWorked  5180 non-null   float64\n",
      " 15  OverTime            5180 non-null   float64\n",
      " 16  SalaryHikelastYear  5011 non-null   float64\n",
      " 17  WorkExperience      4993 non-null   float64\n",
      " 18  LastPromotion       5110 non-null   float64\n",
      " 19  CurrentProfile      4869 non-null   float64\n",
      " 20  MaritalStatus       5180 non-null   object \n",
      " 21  MonthlyIncome       5087 non-null   float64\n",
      "dtypes: float64(16), object(6)\n",
      "memory usage: 930.8+ KB\n"
     ]
    }
   ],
   "source": [
    "data.info()"
   ]
  },
  {
   "cell_type": "code",
   "execution_count": 298,
   "id": "8e92977a",
   "metadata": {},
   "outputs": [
    {
     "data": {
      "text/plain": [
       "EmployeeID              0\n",
       "Attrition               0\n",
       "Age                   316\n",
       "TravelProfile           0\n",
       "Department            124\n",
       "HomeToWork            255\n",
       "EducationField          0\n",
       "Gender                 46\n",
       "HourlnWeek            287\n",
       "Involvement             0\n",
       "WorkLifeBalance         0\n",
       "Designation            38\n",
       "JobSatisfaction         0\n",
       "ESOPs                   0\n",
       "NumCompaniesWorked      0\n",
       "OverTime                0\n",
       "SalaryHikelastYear    169\n",
       "WorkExperience        187\n",
       "LastPromotion          70\n",
       "CurrentProfile        311\n",
       "MaritalStatus           0\n",
       "MonthlyIncome          93\n",
       "dtype: int64"
      ]
     },
     "execution_count": 298,
     "metadata": {},
     "output_type": "execute_result"
    }
   ],
   "source": [
    "data.isnull().sum()"
   ]
  },
  {
   "cell_type": "code",
   "execution_count": 299,
   "id": "c5a6f26a",
   "metadata": {},
   "outputs": [
    {
     "data": {
      "text/html": [
       "<div>\n",
       "<style scoped>\n",
       "    .dataframe tbody tr th:only-of-type {\n",
       "        vertical-align: middle;\n",
       "    }\n",
       "\n",
       "    .dataframe tbody tr th {\n",
       "        vertical-align: top;\n",
       "    }\n",
       "\n",
       "    .dataframe thead th {\n",
       "        text-align: right;\n",
       "    }\n",
       "</style>\n",
       "<table border=\"1\" class=\"dataframe\">\n",
       "  <thead>\n",
       "    <tr style=\"text-align: right;\">\n",
       "      <th></th>\n",
       "      <th></th>\n",
       "      <th>Age</th>\n",
       "    </tr>\n",
       "    <tr>\n",
       "      <th>EducationField</th>\n",
       "      <th>TravelProfile</th>\n",
       "      <th></th>\n",
       "    </tr>\n",
       "  </thead>\n",
       "  <tbody>\n",
       "    <tr>\n",
       "      <th rowspan=\"3\" valign=\"top\">CA</th>\n",
       "      <th>No</th>\n",
       "      <td>34.5</td>\n",
       "    </tr>\n",
       "    <tr>\n",
       "      <th>Rarely</th>\n",
       "      <td>36.0</td>\n",
       "    </tr>\n",
       "    <tr>\n",
       "      <th>Yes</th>\n",
       "      <td>39.0</td>\n",
       "    </tr>\n",
       "    <tr>\n",
       "      <th rowspan=\"3\" valign=\"top\">Engineer</th>\n",
       "      <th>No</th>\n",
       "      <td>35.0</td>\n",
       "    </tr>\n",
       "    <tr>\n",
       "      <th>Rarely</th>\n",
       "      <td>35.0</td>\n",
       "    </tr>\n",
       "    <tr>\n",
       "      <th>Yes</th>\n",
       "      <td>30.0</td>\n",
       "    </tr>\n",
       "    <tr>\n",
       "      <th rowspan=\"3\" valign=\"top\">MBA</th>\n",
       "      <th>No</th>\n",
       "      <td>42.0</td>\n",
       "    </tr>\n",
       "    <tr>\n",
       "      <th>Rarely</th>\n",
       "      <td>34.0</td>\n",
       "    </tr>\n",
       "    <tr>\n",
       "      <th>Yes</th>\n",
       "      <td>34.0</td>\n",
       "    </tr>\n",
       "    <tr>\n",
       "      <th rowspan=\"3\" valign=\"top\">Marketing Diploma</th>\n",
       "      <th>No</th>\n",
       "      <td>34.0</td>\n",
       "    </tr>\n",
       "    <tr>\n",
       "      <th>Rarely</th>\n",
       "      <td>38.0</td>\n",
       "    </tr>\n",
       "    <tr>\n",
       "      <th>Yes</th>\n",
       "      <td>35.0</td>\n",
       "    </tr>\n",
       "    <tr>\n",
       "      <th rowspan=\"3\" valign=\"top\">Other</th>\n",
       "      <th>No</th>\n",
       "      <td>32.0</td>\n",
       "    </tr>\n",
       "    <tr>\n",
       "      <th>Rarely</th>\n",
       "      <td>36.0</td>\n",
       "    </tr>\n",
       "    <tr>\n",
       "      <th>Yes</th>\n",
       "      <td>35.5</td>\n",
       "    </tr>\n",
       "    <tr>\n",
       "      <th rowspan=\"3\" valign=\"top\">Statistics</th>\n",
       "      <th>No</th>\n",
       "      <td>39.0</td>\n",
       "    </tr>\n",
       "    <tr>\n",
       "      <th>Rarely</th>\n",
       "      <td>36.0</td>\n",
       "    </tr>\n",
       "    <tr>\n",
       "      <th>Yes</th>\n",
       "      <td>34.0</td>\n",
       "    </tr>\n",
       "  </tbody>\n",
       "</table>\n",
       "</div>"
      ],
      "text/plain": [
       "                                  Age\n",
       "EducationField    TravelProfile      \n",
       "CA                No             34.5\n",
       "                  Rarely         36.0\n",
       "                  Yes            39.0\n",
       "Engineer          No             35.0\n",
       "                  Rarely         35.0\n",
       "                  Yes            30.0\n",
       "MBA               No             42.0\n",
       "                  Rarely         34.0\n",
       "                  Yes            34.0\n",
       "Marketing Diploma No             34.0\n",
       "                  Rarely         38.0\n",
       "                  Yes            35.0\n",
       "Other             No             32.0\n",
       "                  Rarely         36.0\n",
       "                  Yes            35.5\n",
       "Statistics        No             39.0\n",
       "                  Rarely         36.0\n",
       "                  Yes            34.0"
      ]
     },
     "execution_count": 299,
     "metadata": {},
     "output_type": "execute_result"
    }
   ],
   "source": [
    "data.pivot_table(values=[\"Age\"], index=[\"EducationField\", \"TravelProfile\"], aggfunc=np.median)"
   ]
  },
  {
   "cell_type": "code",
   "execution_count": 300,
   "id": "905b600b",
   "metadata": {},
   "outputs": [],
   "source": [
    "data['Age'] = data.groupby('EducationField')['Age'].bfill().ffill()"
   ]
  },
  {
   "cell_type": "code",
   "execution_count": 301,
   "id": "61fee51f",
   "metadata": {},
   "outputs": [],
   "source": [
    "data['Department'] = data.groupby('EducationField')['Department'].bfill().ffill()"
   ]
  },
  {
   "cell_type": "code",
   "execution_count": 302,
   "id": "833c235a",
   "metadata": {},
   "outputs": [],
   "source": [
    "data['HomeToWork'] = data.groupby('EducationField')['HomeToWork'].bfill().ffill()"
   ]
  },
  {
   "cell_type": "code",
   "execution_count": 303,
   "id": "da86c253",
   "metadata": {},
   "outputs": [],
   "source": [
    "data['Gender'] = data.groupby('EducationField')['Gender'].bfill().ffill()\n",
    "data['HourlnWeek'] = data.groupby('EducationField')['HourlnWeek'].bfill().ffill()\n",
    "data['Designation'] = data.groupby('EducationField')['Designation'].bfill().ffill()\n",
    "data['SalaryHikelastYear'] = data.groupby('EducationField')['SalaryHikelastYear'].bfill().ffill()\n",
    "data['WorkExperience'] = data.groupby('EducationField')['WorkExperience'].bfill().ffill()\n",
    "data['LastPromotion'] = data.groupby('EducationField')['LastPromotion'].bfill().ffill()"
   ]
  },
  {
   "cell_type": "code",
   "execution_count": 304,
   "id": "653bc9fa",
   "metadata": {},
   "outputs": [],
   "source": [
    "data['CurrentProfile'] = data.groupby('EducationField')['CurrentProfile'].bfill().ffill()\n",
    "data['MonthlyIncome'] = data.groupby('EducationField')['MonthlyIncome'].bfill().ffill()"
   ]
  },
  {
   "cell_type": "code",
   "execution_count": 305,
   "id": "d41bc50e",
   "metadata": {},
   "outputs": [
    {
     "data": {
      "text/plain": [
       "EmployeeID            0\n",
       "Attrition             0\n",
       "Age                   0\n",
       "TravelProfile         0\n",
       "Department            0\n",
       "HomeToWork            0\n",
       "EducationField        0\n",
       "Gender                0\n",
       "HourlnWeek            0\n",
       "Involvement           0\n",
       "WorkLifeBalance       0\n",
       "Designation           0\n",
       "JobSatisfaction       0\n",
       "ESOPs                 0\n",
       "NumCompaniesWorked    0\n",
       "OverTime              0\n",
       "SalaryHikelastYear    0\n",
       "WorkExperience        0\n",
       "LastPromotion         0\n",
       "CurrentProfile        0\n",
       "MaritalStatus         0\n",
       "MonthlyIncome         0\n",
       "dtype: int64"
      ]
     },
     "execution_count": 305,
     "metadata": {},
     "output_type": "execute_result"
    }
   ],
   "source": [
    "data.isnull().sum()"
   ]
  },
  {
   "cell_type": "code",
   "execution_count": 306,
   "id": "a7ac3127",
   "metadata": {},
   "outputs": [
    {
     "data": {
      "text/html": [
       "<div>\n",
       "<style scoped>\n",
       "    .dataframe tbody tr th:only-of-type {\n",
       "        vertical-align: middle;\n",
       "    }\n",
       "\n",
       "    .dataframe tbody tr th {\n",
       "        vertical-align: top;\n",
       "    }\n",
       "\n",
       "    .dataframe thead th {\n",
       "        text-align: right;\n",
       "    }\n",
       "</style>\n",
       "<table border=\"1\" class=\"dataframe\">\n",
       "  <thead>\n",
       "    <tr style=\"text-align: right;\">\n",
       "      <th></th>\n",
       "      <th>EmployeeID</th>\n",
       "      <th>Attrition</th>\n",
       "      <th>Age</th>\n",
       "      <th>HomeToWork</th>\n",
       "      <th>HourlnWeek</th>\n",
       "      <th>Involvement</th>\n",
       "      <th>WorkLifeBalance</th>\n",
       "      <th>JobSatisfaction</th>\n",
       "      <th>ESOPs</th>\n",
       "      <th>NumCompaniesWorked</th>\n",
       "      <th>OverTime</th>\n",
       "      <th>SalaryHikelastYear</th>\n",
       "      <th>WorkExperience</th>\n",
       "      <th>LastPromotion</th>\n",
       "      <th>CurrentProfile</th>\n",
       "      <th>MonthlyIncome</th>\n",
       "    </tr>\n",
       "  </thead>\n",
       "  <tbody>\n",
       "    <tr>\n",
       "      <th>count</th>\n",
       "      <td>5.180000e+03</td>\n",
       "      <td>5180.000000</td>\n",
       "      <td>5180.000000</td>\n",
       "      <td>5180.000000</td>\n",
       "      <td>5180.000000</td>\n",
       "      <td>5180.000000</td>\n",
       "      <td>5180.000000</td>\n",
       "      <td>5180.000000</td>\n",
       "      <td>5180.000000</td>\n",
       "      <td>5180.000000</td>\n",
       "      <td>5180.000000</td>\n",
       "      <td>5180.000000</td>\n",
       "      <td>5180.000000</td>\n",
       "      <td>5180.000000</td>\n",
       "      <td>5180.000000</td>\n",
       "      <td>5180.000000</td>\n",
       "    </tr>\n",
       "    <tr>\n",
       "      <th>mean</th>\n",
       "      <td>5.112590e+06</td>\n",
       "      <td>0.278958</td>\n",
       "      <td>37.095946</td>\n",
       "      <td>11.117761</td>\n",
       "      <td>57.975483</td>\n",
       "      <td>3.226641</td>\n",
       "      <td>3.012741</td>\n",
       "      <td>3.144402</td>\n",
       "      <td>0.490541</td>\n",
       "      <td>3.157336</td>\n",
       "      <td>0.313514</td>\n",
       "      <td>20.650193</td>\n",
       "      <td>11.150386</td>\n",
       "      <td>2.558108</td>\n",
       "      <td>4.408880</td>\n",
       "      <td>21695.414672</td>\n",
       "    </tr>\n",
       "    <tr>\n",
       "      <th>std</th>\n",
       "      <td>1.495482e+03</td>\n",
       "      <td>0.448530</td>\n",
       "      <td>9.241136</td>\n",
       "      <td>8.445436</td>\n",
       "      <td>13.040714</td>\n",
       "      <td>0.872431</td>\n",
       "      <td>1.410602</td>\n",
       "      <td>1.342776</td>\n",
       "      <td>0.499959</td>\n",
       "      <td>2.606036</td>\n",
       "      <td>0.463966</td>\n",
       "      <td>3.707133</td>\n",
       "      <td>7.796948</td>\n",
       "      <td>3.249237</td>\n",
       "      <td>3.627521</td>\n",
       "      <td>4771.416862</td>\n",
       "    </tr>\n",
       "    <tr>\n",
       "      <th>min</th>\n",
       "      <td>5.110001e+06</td>\n",
       "      <td>0.000000</td>\n",
       "      <td>18.000000</td>\n",
       "      <td>1.000000</td>\n",
       "      <td>10.000000</td>\n",
       "      <td>1.000000</td>\n",
       "      <td>1.000000</td>\n",
       "      <td>1.000000</td>\n",
       "      <td>0.000000</td>\n",
       "      <td>0.000000</td>\n",
       "      <td>0.000000</td>\n",
       "      <td>16.000000</td>\n",
       "      <td>0.000000</td>\n",
       "      <td>0.000000</td>\n",
       "      <td>0.000000</td>\n",
       "      <td>1000.000000</td>\n",
       "    </tr>\n",
       "    <tr>\n",
       "      <th>25%</th>\n",
       "      <td>5.111296e+06</td>\n",
       "      <td>0.000000</td>\n",
       "      <td>30.000000</td>\n",
       "      <td>5.000000</td>\n",
       "      <td>49.000000</td>\n",
       "      <td>3.000000</td>\n",
       "      <td>2.000000</td>\n",
       "      <td>2.000000</td>\n",
       "      <td>0.000000</td>\n",
       "      <td>1.000000</td>\n",
       "      <td>0.000000</td>\n",
       "      <td>18.000000</td>\n",
       "      <td>6.000000</td>\n",
       "      <td>1.000000</td>\n",
       "      <td>2.000000</td>\n",
       "      <td>18362.000000</td>\n",
       "    </tr>\n",
       "    <tr>\n",
       "      <th>50%</th>\n",
       "      <td>5.112590e+06</td>\n",
       "      <td>0.000000</td>\n",
       "      <td>36.000000</td>\n",
       "      <td>9.000000</td>\n",
       "      <td>59.000000</td>\n",
       "      <td>3.000000</td>\n",
       "      <td>3.000000</td>\n",
       "      <td>3.000000</td>\n",
       "      <td>0.000000</td>\n",
       "      <td>2.000000</td>\n",
       "      <td>0.000000</td>\n",
       "      <td>20.000000</td>\n",
       "      <td>9.000000</td>\n",
       "      <td>1.000000</td>\n",
       "      <td>3.000000</td>\n",
       "      <td>20161.500000</td>\n",
       "    </tr>\n",
       "    <tr>\n",
       "      <th>75%</th>\n",
       "      <td>5.113885e+06</td>\n",
       "      <td>1.000000</td>\n",
       "      <td>43.000000</td>\n",
       "      <td>16.000000</td>\n",
       "      <td>67.000000</td>\n",
       "      <td>4.000000</td>\n",
       "      <td>4.000000</td>\n",
       "      <td>4.000000</td>\n",
       "      <td>1.000000</td>\n",
       "      <td>5.000000</td>\n",
       "      <td>1.000000</td>\n",
       "      <td>23.000000</td>\n",
       "      <td>15.000000</td>\n",
       "      <td>3.000000</td>\n",
       "      <td>7.000000</td>\n",
       "      <td>23431.250000</td>\n",
       "    </tr>\n",
       "    <tr>\n",
       "      <th>max</th>\n",
       "      <td>5.115180e+06</td>\n",
       "      <td>1.000000</td>\n",
       "      <td>61.000000</td>\n",
       "      <td>121.000000</td>\n",
       "      <td>99.000000</td>\n",
       "      <td>5.000000</td>\n",
       "      <td>5.000000</td>\n",
       "      <td>5.000000</td>\n",
       "      <td>1.000000</td>\n",
       "      <td>21.000000</td>\n",
       "      <td>1.000000</td>\n",
       "      <td>31.000000</td>\n",
       "      <td>41.000000</td>\n",
       "      <td>16.000000</td>\n",
       "      <td>18.000000</td>\n",
       "      <td>95000.000000</td>\n",
       "    </tr>\n",
       "  </tbody>\n",
       "</table>\n",
       "</div>"
      ],
      "text/plain": [
       "         EmployeeID    Attrition          Age   HomeToWork   HourlnWeek  \\\n",
       "count  5.180000e+03  5180.000000  5180.000000  5180.000000  5180.000000   \n",
       "mean   5.112590e+06     0.278958    37.095946    11.117761    57.975483   \n",
       "std    1.495482e+03     0.448530     9.241136     8.445436    13.040714   \n",
       "min    5.110001e+06     0.000000    18.000000     1.000000    10.000000   \n",
       "25%    5.111296e+06     0.000000    30.000000     5.000000    49.000000   \n",
       "50%    5.112590e+06     0.000000    36.000000     9.000000    59.000000   \n",
       "75%    5.113885e+06     1.000000    43.000000    16.000000    67.000000   \n",
       "max    5.115180e+06     1.000000    61.000000   121.000000    99.000000   \n",
       "\n",
       "       Involvement  WorkLifeBalance  JobSatisfaction        ESOPs  \\\n",
       "count  5180.000000      5180.000000      5180.000000  5180.000000   \n",
       "mean      3.226641         3.012741         3.144402     0.490541   \n",
       "std       0.872431         1.410602         1.342776     0.499959   \n",
       "min       1.000000         1.000000         1.000000     0.000000   \n",
       "25%       3.000000         2.000000         2.000000     0.000000   \n",
       "50%       3.000000         3.000000         3.000000     0.000000   \n",
       "75%       4.000000         4.000000         4.000000     1.000000   \n",
       "max       5.000000         5.000000         5.000000     1.000000   \n",
       "\n",
       "       NumCompaniesWorked     OverTime  SalaryHikelastYear  WorkExperience  \\\n",
       "count         5180.000000  5180.000000         5180.000000     5180.000000   \n",
       "mean             3.157336     0.313514           20.650193       11.150386   \n",
       "std              2.606036     0.463966            3.707133        7.796948   \n",
       "min              0.000000     0.000000           16.000000        0.000000   \n",
       "25%              1.000000     0.000000           18.000000        6.000000   \n",
       "50%              2.000000     0.000000           20.000000        9.000000   \n",
       "75%              5.000000     1.000000           23.000000       15.000000   \n",
       "max             21.000000     1.000000           31.000000       41.000000   \n",
       "\n",
       "       LastPromotion  CurrentProfile  MonthlyIncome  \n",
       "count    5180.000000     5180.000000    5180.000000  \n",
       "mean        2.558108        4.408880   21695.414672  \n",
       "std         3.249237        3.627521    4771.416862  \n",
       "min         0.000000        0.000000    1000.000000  \n",
       "25%         1.000000        2.000000   18362.000000  \n",
       "50%         1.000000        3.000000   20161.500000  \n",
       "75%         3.000000        7.000000   23431.250000  \n",
       "max        16.000000       18.000000   95000.000000  "
      ]
     },
     "execution_count": 306,
     "metadata": {},
     "output_type": "execute_result"
    }
   ],
   "source": [
    "data.describe()"
   ]
  },
  {
   "cell_type": "code",
   "execution_count": 240,
   "id": "01ee4744",
   "metadata": {},
   "outputs": [
    {
     "data": {
      "text/plain": [
       "<matplotlib.legend.Legend at 0x16a55223e80>"
      ]
     },
     "execution_count": 240,
     "metadata": {},
     "output_type": "execute_result"
    },
    {
     "data": {
      "image/png": "[encoded data removed]",
      "text/plain": [
       "<Figure size 1080x720 with 1 Axes>"
      ]
     },
     "metadata": {
      "needs_background": "light"
     },
     "output_type": "display_data"
    }
   ],
   "source": [
    "fig = plt.figure(figsize=(15, 10))\n",
    "x_values = data[\"EducationField\"]\n",
    "ax = fig.add_subplot()\n",
    "ax.bar(x_values, data[\"MonthlyIncome\"], label=0)\n",
    "ax.bar(x_values, data[\"MonthlyIncome\"], label=1)\n",
    "ax.legend()"
   ]
  },
  {
   "cell_type": "code",
   "execution_count": 307,
   "id": "1d40dff3",
   "metadata": {},
   "outputs": [
    {
     "data": {
      "text/plain": [
       "<matplotlib.collections.PathCollection at 0x16a69f273a0>"
      ]
     },
     "execution_count": 307,
     "metadata": {},
     "output_type": "execute_result"
    },
    {
     "data": {
      "image/png": "[encoded data removed]",
      "text/plain": [
       "<Figure size 432x288 with 1 Axes>"
      ]
     },
     "metadata": {
      "needs_background": "light"
     },
     "output_type": "display_data"
    }
   ],
   "source": [
    "plt.scatter(data[\"Age\"], data[\"MonthlyIncome\"])"
   ]
  },
  {
   "cell_type": "code",
   "execution_count": 308,
   "id": "2c929d41",
   "metadata": {},
   "outputs": [],
   "source": [
    "data['Income_Range']=pd.cut(data['MonthlyIncome'],[1000,5000,10000,15000,20000,25000,49000])"
   ]
  },
  {
   "cell_type": "code",
   "execution_count": 309,
   "id": "e7c37970",
   "metadata": {},
   "outputs": [
    {
     "data": {
      "text/plain": [
       "[]"
      ]
     },
     "execution_count": 309,
     "metadata": {},
     "output_type": "execute_result"
    },
    {
     "data": {
      "image/png": "[encoded data removed]",
      "text/plain": [
       "<Figure size 1080x288 with 1 Axes>"
      ]
     },
     "metadata": {
      "needs_background": "light"
     },
     "output_type": "display_data"
    }
   ],
   "source": [
    "f, ax = plt.subplots(figsize=(15, 4))\n",
    "sns.countplot(y='Income_Range',hue='Attrition',data=data).set_title('Employee Salary Attrition Distribution')\n",
    "plt.plot()"
   ]
  },
  {
   "cell_type": "code",
   "execution_count": 310,
   "id": "57031a5c",
   "metadata": {},
   "outputs": [
    {
     "data": {
      "text/plain": [
       "Text(0.5, 1.0, 'Employee Job Satisfaction Rating - Attrition vs No Attrition')"
      ]
     },
     "execution_count": 310,
     "metadata": {},
     "output_type": "execute_result"
    },
    {
     "data": {
      "image/png": "[encoded data removed]",
      "text/plain": [
       "<Figure size 1080x288 with 1 Axes>"
      ]
     },
     "metadata": {
      "needs_background": "light"
     },
     "output_type": "display_data"
    }
   ],
   "source": [
    "fig=plt.figure(figsize=(15,4))\n",
    "ax=sns.kdeplot(data.loc[(data['Attrition']==0),'JobSatisfaction'],color='g',shade=False,label='No Attrition')\n",
    "ax=sns.kdeplot(data.loc[(data['Attrition']==1),'JobSatisfaction'],color='r',shade=True,label='Attrition')\n",
    "ax.set(xlabel='Employee Job Satisfaction Rating',ylabel='Frequency')\n",
    "plt.title('Employee Job Satisfaction Rating - Attrition vs No Attrition')"
   ]
  },
  {
   "cell_type": "code",
   "execution_count": 311,
   "id": "db2a6f29",
   "metadata": {},
   "outputs": [
    {
     "data": {
      "text/plain": [
       "Text(0.5, 1.0, 'Employee WorkLifeBalance Rating - Attrition vs No Attrition')"
      ]
     },
     "execution_count": 311,
     "metadata": {},
     "output_type": "execute_result"
    },
    {
     "data": {
      "image/png": "[encoded data removed]",
      "text/plain": [
       "<Figure size 1080x288 with 1 Axes>"
      ]
     },
     "metadata": {
      "needs_background": "light"
     },
     "output_type": "display_data"
    }
   ],
   "source": [
    "fig=plt.figure(figsize=(15,4))\n",
    "ax=sns.kdeplot(data.loc[(data['Attrition']==0),'WorkLifeBalance'],color='g',shade=False,label='No Attrition')\n",
    "ax=sns.kdeplot(data.loc[(data['Attrition']==1),'WorkLifeBalance'],color='r',shade=True,label='Attrition')\n",
    "ax.set(xlabel='Employee WorkLifeBalance Rating',ylabel='Frequency')\n",
    "plt.title('Employee WorkLifeBalance Rating - Attrition vs No Attrition')"
   ]
  },
  {
   "cell_type": "code",
   "execution_count": 312,
   "id": "761ecf19",
   "metadata": {},
   "outputs": [],
   "source": [
    "data.Gender.replace(\"Female\", 0, inplace=True)\n",
    "data.Gender.replace(\"Male\", 1, inplace=True)"
   ]
  },
  {
   "cell_type": "code",
   "execution_count": 313,
   "id": "2b3f6efe",
   "metadata": {},
   "outputs": [
    {
     "data": {
      "text/plain": [
       "1    3123\n",
       "0    2057\n",
       "Name: Gender, dtype: int64"
      ]
     },
     "execution_count": 313,
     "metadata": {},
     "output_type": "execute_result"
    }
   ],
   "source": [
    "data.Gender.value_counts()"
   ]
  },
  {
   "cell_type": "code",
   "execution_count": 314,
   "id": "fe336394",
   "metadata": {},
   "outputs": [],
   "source": [
    "data.MaritalStatus.replace(\"Single\", 0, inplace=True)\n",
    "data.MaritalStatus.replace(\"Married\",1, inplace=True)\n",
    "data.MaritalStatus.replace(\"Divorsed\",2, inplace=True)"
   ]
  },
  {
   "cell_type": "code",
   "execution_count": 315,
   "id": "9f926f84",
   "metadata": {},
   "outputs": [
    {
     "data": {
      "text/plain": [
       "1    2388\n",
       "0    1776\n",
       "2    1016\n",
       "Name: MaritalStatus, dtype: int64"
      ]
     },
     "execution_count": 315,
     "metadata": {},
     "output_type": "execute_result"
    }
   ],
   "source": [
    "data.MaritalStatus.value_counts()"
   ]
  },
  {
   "cell_type": "code",
   "execution_count": 316,
   "id": "cc3738ff",
   "metadata": {},
   "outputs": [],
   "source": [
    "data.TravelProfile.replace(\"No\", 0, inplace=True)\n",
    "data.TravelProfile.replace(\"Rarely\",1, inplace=True)\n",
    "data.TravelProfile.replace(\"Yes\",2, inplace=True)"
   ]
  },
  {
   "cell_type": "code",
   "execution_count": 317,
   "id": "098f30ad",
   "metadata": {},
   "outputs": [
    {
     "data": {
      "text/plain": [
       "1    3637\n",
       "2    1051\n",
       "0     492\n",
       "Name: TravelProfile, dtype: int64"
      ]
     },
     "execution_count": 317,
     "metadata": {},
     "output_type": "execute_result"
    }
   ],
   "source": [
    "data.TravelProfile.value_counts()"
   ]
  },
  {
   "cell_type": "code",
   "execution_count": 318,
   "id": "e54af5c2",
   "metadata": {},
   "outputs": [],
   "source": [
    "data.Department.replace(\"Analytics\", 0, inplace=True)\n",
    "data.Department.replace(\"Sales\",1, inplace=True)\n",
    "data.Department.replace(\"Marketing\",2, inplace=True)"
   ]
  },
  {
   "cell_type": "code",
   "execution_count": 319,
   "id": "25a644e4",
   "metadata": {},
   "outputs": [
    {
     "data": {
      "text/plain": [
       "0    3291\n",
       "1    1661\n",
       "2     228\n",
       "Name: Department, dtype: int64"
      ]
     },
     "execution_count": 319,
     "metadata": {},
     "output_type": "execute_result"
    }
   ],
   "source": [
    "data.Department.value_counts()"
   ]
  },
  {
   "cell_type": "code",
   "execution_count": 320,
   "id": "82350884",
   "metadata": {},
   "outputs": [],
   "source": [
    "data.EducationField.replace(\"Statistics\", 0, inplace=True)\n",
    "data.EducationField.replace(\"CA\",1, inplace=True)\n",
    "data.EducationField.replace(\"Marketing Diploma\",2, inplace=True)\n",
    "data.EducationField.replace(\"Engineer\",3, inplace=True)\n",
    "data.EducationField.replace(\"MBA\",4, inplace=True)\n",
    "data.EducationField.replace(\"Other\",5, inplace=True)"
   ]
  },
  {
   "cell_type": "code",
   "execution_count": 321,
   "id": "dbb3286b",
   "metadata": {},
   "outputs": [
    {
     "data": {
      "text/plain": [
       "0    2129\n",
       "1    1560\n",
       "2     603\n",
       "3     487\n",
       "5     284\n",
       "4     117\n",
       "Name: EducationField, dtype: int64"
      ]
     },
     "execution_count": 321,
     "metadata": {},
     "output_type": "execute_result"
    }
   ],
   "source": [
    "data.EducationField.value_counts()"
   ]
  },
  {
   "cell_type": "code",
   "execution_count": 322,
   "id": "faba5f58",
   "metadata": {},
   "outputs": [],
   "source": [
    "data.Designation.replace(\"Executive\", 0, inplace=True)\n",
    "data.Designation.replace(\"Manager\",1, inplace=True)\n",
    "data.Designation.replace(\"Senior Manager\",2, inplace=True)\n",
    "data.Designation.replace(\"AVP\",3, inplace=True)\n",
    "data.Designation.replace(\"VP\",4, inplace=True)"
   ]
  },
  {
   "cell_type": "code",
   "execution_count": 323,
   "id": "2aee832d",
   "metadata": {},
   "outputs": [
    {
     "data": {
      "text/plain": [
       "0    2093\n",
       "1    1766\n",
       "2     764\n",
       "3     332\n",
       "4     225\n",
       "Name: Designation, dtype: int64"
      ]
     },
     "execution_count": 323,
     "metadata": {},
     "output_type": "execute_result"
    }
   ],
   "source": [
    "data.Designation.value_counts()"
   ]
  },
  {
   "cell_type": "code",
   "execution_count": 324,
   "id": "3c5540aa",
   "metadata": {},
   "outputs": [],
   "source": [
    "data_new = data.drop(\"EmployeeID\", axis = 1, inplace=True)"
   ]
  },
  {
   "cell_type": "code",
   "execution_count": 325,
   "id": "ba3ee9bb",
   "metadata": {},
   "outputs": [
    {
     "ename": "AttributeError",
     "evalue": "'NoneType' object has no attribute 'head'",
     "output_type": "error",
     "traceback": [
      "\u001b[1;31m---------------------------------------------------------------------------\u001b[0m",
      "\u001b[1;31mAttributeError\u001b[0m                            Traceback (most recent call last)",
      "\u001b[1;32m<ipython-input-325-24093a46bc86>\u001b[0m in \u001b[0;36m<module>\u001b[1;34m\u001b[0m\n\u001b[1;32m----> 1\u001b[1;33m \u001b[0mdata_new\u001b[0m\u001b[1;33m.\u001b[0m\u001b[0mhead\u001b[0m\u001b[1;33m(\u001b[0m\u001b[1;33m)\u001b[0m\u001b[1;33m\u001b[0m\u001b[1;33m\u001b[0m\u001b[0m\n\u001b[0m",
      "\u001b[1;31mAttributeError\u001b[0m: 'NoneType' object has no attribute 'head'"
     ]
    }
   ],
   "source": [
    "data_new.head()"
   ]
  },
  {
   "cell_type": "code",
   "execution_count": 326,
   "id": "b0212daa",
   "metadata": {},
   "outputs": [
    {
     "data": {
      "text/html": [
       "<div>\n",
       "<style scoped>\n",
       "    .dataframe tbody tr th:only-of-type {\n",
       "        vertical-align: middle;\n",
       "    }\n",
       "\n",
       "    .dataframe tbody tr th {\n",
       "        vertical-align: top;\n",
       "    }\n",
       "\n",
       "    .dataframe thead th {\n",
       "        text-align: right;\n",
       "    }\n",
       "</style>\n",
       "<table border=\"1\" class=\"dataframe\">\n",
       "  <thead>\n",
       "    <tr style=\"text-align: right;\">\n",
       "      <th></th>\n",
       "      <th>Attrition</th>\n",
       "      <th>Age</th>\n",
       "      <th>TravelProfile</th>\n",
       "      <th>Department</th>\n",
       "      <th>HomeToWork</th>\n",
       "      <th>EducationField</th>\n",
       "      <th>Gender</th>\n",
       "      <th>HourlnWeek</th>\n",
       "      <th>Involvement</th>\n",
       "      <th>WorkLifeBalance</th>\n",
       "      <th>...</th>\n",
       "      <th>JobSatisfaction</th>\n",
       "      <th>ESOPs</th>\n",
       "      <th>NumCompaniesWorked</th>\n",
       "      <th>OverTime</th>\n",
       "      <th>SalaryHikelastYear</th>\n",
       "      <th>WorkExperience</th>\n",
       "      <th>LastPromotion</th>\n",
       "      <th>CurrentProfile</th>\n",
       "      <th>MaritalStatus</th>\n",
       "      <th>MonthlyIncome</th>\n",
       "    </tr>\n",
       "  </thead>\n",
       "  <tbody>\n",
       "    <tr>\n",
       "      <th>Attrition</th>\n",
       "      <td>1.000000</td>\n",
       "      <td>-0.159673</td>\n",
       "      <td>0.142459</td>\n",
       "      <td>0.084297</td>\n",
       "      <td>0.084556</td>\n",
       "      <td>0.063531</td>\n",
       "      <td>0.043824</td>\n",
       "      <td>0.018104</td>\n",
       "      <td>0.144332</td>\n",
       "      <td>0.013608</td>\n",
       "      <td>...</td>\n",
       "      <td>0.126745</td>\n",
       "      <td>0.012200</td>\n",
       "      <td>0.049829</td>\n",
       "      <td>0.281113</td>\n",
       "      <td>-0.008655</td>\n",
       "      <td>-0.216395</td>\n",
       "      <td>-0.036099</td>\n",
       "      <td>-0.192231</td>\n",
       "      <td>-0.174723</td>\n",
       "      <td>-0.199464</td>\n",
       "    </tr>\n",
       "    <tr>\n",
       "      <th>Age</th>\n",
       "      <td>-0.159673</td>\n",
       "      <td>1.000000</td>\n",
       "      <td>-0.009944</td>\n",
       "      <td>-0.018015</td>\n",
       "      <td>-0.001924</td>\n",
       "      <td>-0.030536</td>\n",
       "      <td>-0.031240</td>\n",
       "      <td>-0.007466</td>\n",
       "      <td>-0.015870</td>\n",
       "      <td>-0.016150</td>\n",
       "      <td>...</td>\n",
       "      <td>-0.014514</td>\n",
       "      <td>-0.016876</td>\n",
       "      <td>0.293341</td>\n",
       "      <td>0.017932</td>\n",
       "      <td>0.017122</td>\n",
       "      <td>0.624311</td>\n",
       "      <td>0.225761</td>\n",
       "      <td>0.183229</td>\n",
       "      <td>0.106499</td>\n",
       "      <td>0.458265</td>\n",
       "    </tr>\n",
       "    <tr>\n",
       "      <th>TravelProfile</th>\n",
       "      <td>0.142459</td>\n",
       "      <td>-0.009944</td>\n",
       "      <td>1.000000</td>\n",
       "      <td>0.002855</td>\n",
       "      <td>-0.012555</td>\n",
       "      <td>-0.019089</td>\n",
       "      <td>-0.051636</td>\n",
       "      <td>-0.012655</td>\n",
       "      <td>-0.008559</td>\n",
       "      <td>-0.022288</td>\n",
       "      <td>...</td>\n",
       "      <td>-0.027337</td>\n",
       "      <td>0.000569</td>\n",
       "      <td>-0.027965</td>\n",
       "      <td>0.047248</td>\n",
       "      <td>-0.029151</td>\n",
       "      <td>-0.004307</td>\n",
       "      <td>0.013330</td>\n",
       "      <td>0.007505</td>\n",
       "      <td>-0.035105</td>\n",
       "      <td>-0.030192</td>\n",
       "    </tr>\n",
       "    <tr>\n",
       "      <th>Department</th>\n",
       "      <td>0.084297</td>\n",
       "      <td>-0.018015</td>\n",
       "      <td>0.002855</td>\n",
       "      <td>1.000000</td>\n",
       "      <td>0.002496</td>\n",
       "      <td>0.219953</td>\n",
       "      <td>-0.007785</td>\n",
       "      <td>-0.026148</td>\n",
       "      <td>0.031296</td>\n",
       "      <td>0.000960</td>\n",
       "      <td>...</td>\n",
       "      <td>0.009591</td>\n",
       "      <td>0.014477</td>\n",
       "      <td>-0.011623</td>\n",
       "      <td>0.004560</td>\n",
       "      <td>-0.040223</td>\n",
       "      <td>-0.023433</td>\n",
       "      <td>-0.000053</td>\n",
       "      <td>-0.008491</td>\n",
       "      <td>0.010097</td>\n",
       "      <td>0.042780</td>\n",
       "    </tr>\n",
       "    <tr>\n",
       "      <th>HomeToWork</th>\n",
       "      <td>0.084556</td>\n",
       "      <td>-0.001924</td>\n",
       "      <td>-0.012555</td>\n",
       "      <td>0.002496</td>\n",
       "      <td>1.000000</td>\n",
       "      <td>0.001929</td>\n",
       "      <td>-0.010595</td>\n",
       "      <td>0.061115</td>\n",
       "      <td>-0.003754</td>\n",
       "      <td>0.022306</td>\n",
       "      <td>...</td>\n",
       "      <td>0.006367</td>\n",
       "      <td>0.001636</td>\n",
       "      <td>-0.018371</td>\n",
       "      <td>0.045323</td>\n",
       "      <td>0.054478</td>\n",
       "      <td>0.005739</td>\n",
       "      <td>0.015519</td>\n",
       "      <td>0.010926</td>\n",
       "      <td>0.006340</td>\n",
       "      <td>-0.015845</td>\n",
       "    </tr>\n",
       "    <tr>\n",
       "      <th>EducationField</th>\n",
       "      <td>0.063531</td>\n",
       "      <td>-0.030536</td>\n",
       "      <td>-0.019089</td>\n",
       "      <td>0.219953</td>\n",
       "      <td>0.001929</td>\n",
       "      <td>1.000000</td>\n",
       "      <td>0.026914</td>\n",
       "      <td>-0.056257</td>\n",
       "      <td>0.011896</td>\n",
       "      <td>0.001772</td>\n",
       "      <td>...</td>\n",
       "      <td>0.035303</td>\n",
       "      <td>0.005624</td>\n",
       "      <td>0.011131</td>\n",
       "      <td>0.016046</td>\n",
       "      <td>-0.008908</td>\n",
       "      <td>-0.034612</td>\n",
       "      <td>-0.049718</td>\n",
       "      <td>-0.019671</td>\n",
       "      <td>0.006759</td>\n",
       "      <td>-0.022304</td>\n",
       "    </tr>\n",
       "    <tr>\n",
       "      <th>Gender</th>\n",
       "      <td>0.043824</td>\n",
       "      <td>-0.031240</td>\n",
       "      <td>-0.051636</td>\n",
       "      <td>-0.007785</td>\n",
       "      <td>-0.010595</td>\n",
       "      <td>0.026914</td>\n",
       "      <td>1.000000</td>\n",
       "      <td>-0.002827</td>\n",
       "      <td>-0.008503</td>\n",
       "      <td>0.022157</td>\n",
       "      <td>...</td>\n",
       "      <td>-0.034077</td>\n",
       "      <td>0.004768</td>\n",
       "      <td>-0.018830</td>\n",
       "      <td>-0.021349</td>\n",
       "      <td>-0.006019</td>\n",
       "      <td>-0.049325</td>\n",
       "      <td>-0.046143</td>\n",
       "      <td>-0.051770</td>\n",
       "      <td>0.020404</td>\n",
       "      <td>-0.032873</td>\n",
       "    </tr>\n",
       "    <tr>\n",
       "      <th>HourlnWeek</th>\n",
       "      <td>0.018104</td>\n",
       "      <td>-0.007466</td>\n",
       "      <td>-0.012655</td>\n",
       "      <td>-0.026148</td>\n",
       "      <td>0.061115</td>\n",
       "      <td>-0.056257</td>\n",
       "      <td>-0.002827</td>\n",
       "      <td>1.000000</td>\n",
       "      <td>-0.016806</td>\n",
       "      <td>0.010608</td>\n",
       "      <td>...</td>\n",
       "      <td>0.049580</td>\n",
       "      <td>0.005488</td>\n",
       "      <td>0.004795</td>\n",
       "      <td>0.040779</td>\n",
       "      <td>0.000482</td>\n",
       "      <td>-0.015310</td>\n",
       "      <td>-0.031316</td>\n",
       "      <td>0.000032</td>\n",
       "      <td>0.046603</td>\n",
       "      <td>-0.018919</td>\n",
       "    </tr>\n",
       "    <tr>\n",
       "      <th>Involvement</th>\n",
       "      <td>0.144332</td>\n",
       "      <td>-0.015870</td>\n",
       "      <td>-0.008559</td>\n",
       "      <td>0.031296</td>\n",
       "      <td>-0.003754</td>\n",
       "      <td>0.011896</td>\n",
       "      <td>-0.008503</td>\n",
       "      <td>-0.016806</td>\n",
       "      <td>1.000000</td>\n",
       "      <td>0.001419</td>\n",
       "      <td>...</td>\n",
       "      <td>-0.022173</td>\n",
       "      <td>0.028821</td>\n",
       "      <td>0.007583</td>\n",
       "      <td>0.018096</td>\n",
       "      <td>0.020398</td>\n",
       "      <td>-0.009724</td>\n",
       "      <td>0.016673</td>\n",
       "      <td>-0.043625</td>\n",
       "      <td>-0.042686</td>\n",
       "      <td>0.009716</td>\n",
       "    </tr>\n",
       "    <tr>\n",
       "      <th>WorkLifeBalance</th>\n",
       "      <td>0.013608</td>\n",
       "      <td>-0.016150</td>\n",
       "      <td>-0.022288</td>\n",
       "      <td>0.000960</td>\n",
       "      <td>0.022306</td>\n",
       "      <td>0.001772</td>\n",
       "      <td>0.022157</td>\n",
       "      <td>0.010608</td>\n",
       "      <td>0.001419</td>\n",
       "      <td>1.000000</td>\n",
       "      <td>...</td>\n",
       "      <td>0.012179</td>\n",
       "      <td>0.001540</td>\n",
       "      <td>-0.006376</td>\n",
       "      <td>0.017203</td>\n",
       "      <td>-0.000772</td>\n",
       "      <td>-0.020399</td>\n",
       "      <td>-0.015454</td>\n",
       "      <td>0.000906</td>\n",
       "      <td>0.026577</td>\n",
       "      <td>-0.000566</td>\n",
       "    </tr>\n",
       "    <tr>\n",
       "      <th>Designation</th>\n",
       "      <td>-0.212210</td>\n",
       "      <td>0.478253</td>\n",
       "      <td>-0.025402</td>\n",
       "      <td>0.074898</td>\n",
       "      <td>-0.008522</td>\n",
       "      <td>-0.014869</td>\n",
       "      <td>-0.039288</td>\n",
       "      <td>-0.040967</td>\n",
       "      <td>-0.002075</td>\n",
       "      <td>-0.015892</td>\n",
       "      <td>...</td>\n",
       "      <td>-0.022251</td>\n",
       "      <td>-0.005610</td>\n",
       "      <td>0.130551</td>\n",
       "      <td>-0.032356</td>\n",
       "      <td>-0.045402</td>\n",
       "      <td>0.763151</td>\n",
       "      <td>0.352879</td>\n",
       "      <td>0.368116</td>\n",
       "      <td>0.093989</td>\n",
       "      <td>0.897675</td>\n",
       "    </tr>\n",
       "    <tr>\n",
       "      <th>JobSatisfaction</th>\n",
       "      <td>0.126745</td>\n",
       "      <td>-0.014514</td>\n",
       "      <td>-0.027337</td>\n",
       "      <td>0.009591</td>\n",
       "      <td>0.006367</td>\n",
       "      <td>0.035303</td>\n",
       "      <td>-0.034077</td>\n",
       "      <td>0.049580</td>\n",
       "      <td>-0.022173</td>\n",
       "      <td>0.012179</td>\n",
       "      <td>...</td>\n",
       "      <td>1.000000</td>\n",
       "      <td>-0.008894</td>\n",
       "      <td>0.052492</td>\n",
       "      <td>-0.024642</td>\n",
       "      <td>-0.005366</td>\n",
       "      <td>-0.002739</td>\n",
       "      <td>0.012061</td>\n",
       "      <td>0.010788</td>\n",
       "      <td>0.028132</td>\n",
       "      <td>-0.011478</td>\n",
       "    </tr>\n",
       "    <tr>\n",
       "      <th>ESOPs</th>\n",
       "      <td>0.012200</td>\n",
       "      <td>-0.016876</td>\n",
       "      <td>0.000569</td>\n",
       "      <td>0.014477</td>\n",
       "      <td>0.001636</td>\n",
       "      <td>0.005624</td>\n",
       "      <td>0.004768</td>\n",
       "      <td>0.005488</td>\n",
       "      <td>0.028821</td>\n",
       "      <td>0.001540</td>\n",
       "      <td>...</td>\n",
       "      <td>-0.008894</td>\n",
       "      <td>1.000000</td>\n",
       "      <td>-0.019383</td>\n",
       "      <td>0.021112</td>\n",
       "      <td>-0.029706</td>\n",
       "      <td>-0.007981</td>\n",
       "      <td>-0.014044</td>\n",
       "      <td>-0.013517</td>\n",
       "      <td>0.015466</td>\n",
       "      <td>-0.006410</td>\n",
       "    </tr>\n",
       "    <tr>\n",
       "      <th>NumCompaniesWorked</th>\n",
       "      <td>0.049829</td>\n",
       "      <td>0.293341</td>\n",
       "      <td>-0.027965</td>\n",
       "      <td>-0.011623</td>\n",
       "      <td>-0.018371</td>\n",
       "      <td>0.011131</td>\n",
       "      <td>-0.018830</td>\n",
       "      <td>0.004795</td>\n",
       "      <td>0.007583</td>\n",
       "      <td>-0.006376</td>\n",
       "      <td>...</td>\n",
       "      <td>0.052492</td>\n",
       "      <td>-0.019383</td>\n",
       "      <td>1.000000</td>\n",
       "      <td>-0.007109</td>\n",
       "      <td>0.010715</td>\n",
       "      <td>0.239274</td>\n",
       "      <td>0.015464</td>\n",
       "      <td>-0.075190</td>\n",
       "      <td>0.009225</td>\n",
       "      <td>0.159862</td>\n",
       "    </tr>\n",
       "    <tr>\n",
       "      <th>OverTime</th>\n",
       "      <td>0.281113</td>\n",
       "      <td>0.017932</td>\n",
       "      <td>0.047248</td>\n",
       "      <td>0.004560</td>\n",
       "      <td>0.045323</td>\n",
       "      <td>0.016046</td>\n",
       "      <td>-0.021349</td>\n",
       "      <td>0.040779</td>\n",
       "      <td>0.018096</td>\n",
       "      <td>0.017203</td>\n",
       "      <td>...</td>\n",
       "      <td>-0.024642</td>\n",
       "      <td>0.021112</td>\n",
       "      <td>-0.007109</td>\n",
       "      <td>1.000000</td>\n",
       "      <td>0.006521</td>\n",
       "      <td>-0.032465</td>\n",
       "      <td>-0.034373</td>\n",
       "      <td>-0.049908</td>\n",
       "      <td>-0.001001</td>\n",
       "      <td>-0.013251</td>\n",
       "    </tr>\n",
       "    <tr>\n",
       "      <th>SalaryHikelastYear</th>\n",
       "      <td>-0.008655</td>\n",
       "      <td>0.017122</td>\n",
       "      <td>-0.029151</td>\n",
       "      <td>-0.040223</td>\n",
       "      <td>0.054478</td>\n",
       "      <td>-0.008908</td>\n",
       "      <td>-0.006019</td>\n",
       "      <td>0.000482</td>\n",
       "      <td>0.020398</td>\n",
       "      <td>-0.000772</td>\n",
       "      <td>...</td>\n",
       "      <td>-0.005366</td>\n",
       "      <td>-0.029706</td>\n",
       "      <td>0.010715</td>\n",
       "      <td>0.006521</td>\n",
       "      <td>1.000000</td>\n",
       "      <td>-0.025502</td>\n",
       "      <td>-0.006375</td>\n",
       "      <td>0.005354</td>\n",
       "      <td>-0.017582</td>\n",
       "      <td>-0.039607</td>\n",
       "    </tr>\n",
       "    <tr>\n",
       "      <th>WorkExperience</th>\n",
       "      <td>-0.216395</td>\n",
       "      <td>0.624311</td>\n",
       "      <td>-0.004307</td>\n",
       "      <td>-0.023433</td>\n",
       "      <td>0.005739</td>\n",
       "      <td>-0.034612</td>\n",
       "      <td>-0.049325</td>\n",
       "      <td>-0.015310</td>\n",
       "      <td>-0.009724</td>\n",
       "      <td>-0.020399</td>\n",
       "      <td>...</td>\n",
       "      <td>-0.002739</td>\n",
       "      <td>-0.007981</td>\n",
       "      <td>0.239274</td>\n",
       "      <td>-0.032465</td>\n",
       "      <td>-0.025502</td>\n",
       "      <td>1.000000</td>\n",
       "      <td>0.411539</td>\n",
       "      <td>0.442901</td>\n",
       "      <td>0.098321</td>\n",
       "      <td>0.727559</td>\n",
       "    </tr>\n",
       "    <tr>\n",
       "      <th>LastPromotion</th>\n",
       "      <td>-0.036099</td>\n",
       "      <td>0.225761</td>\n",
       "      <td>0.013330</td>\n",
       "      <td>-0.000053</td>\n",
       "      <td>0.015519</td>\n",
       "      <td>-0.049718</td>\n",
       "      <td>-0.046143</td>\n",
       "      <td>-0.031316</td>\n",
       "      <td>0.016673</td>\n",
       "      <td>-0.015454</td>\n",
       "      <td>...</td>\n",
       "      <td>0.012061</td>\n",
       "      <td>-0.014044</td>\n",
       "      <td>0.015464</td>\n",
       "      <td>-0.034373</td>\n",
       "      <td>-0.006375</td>\n",
       "      <td>0.411539</td>\n",
       "      <td>1.000000</td>\n",
       "      <td>0.488194</td>\n",
       "      <td>0.054283</td>\n",
       "      <td>0.349260</td>\n",
       "    </tr>\n",
       "    <tr>\n",
       "      <th>CurrentProfile</th>\n",
       "      <td>-0.192231</td>\n",
       "      <td>0.183229</td>\n",
       "      <td>0.007505</td>\n",
       "      <td>-0.008491</td>\n",
       "      <td>0.010926</td>\n",
       "      <td>-0.019671</td>\n",
       "      <td>-0.051770</td>\n",
       "      <td>0.000032</td>\n",
       "      <td>-0.043625</td>\n",
       "      <td>0.000906</td>\n",
       "      <td>...</td>\n",
       "      <td>0.010788</td>\n",
       "      <td>-0.013517</td>\n",
       "      <td>-0.075190</td>\n",
       "      <td>-0.049908</td>\n",
       "      <td>0.005354</td>\n",
       "      <td>0.442901</td>\n",
       "      <td>0.488194</td>\n",
       "      <td>1.000000</td>\n",
       "      <td>0.053253</td>\n",
       "      <td>0.349286</td>\n",
       "    </tr>\n",
       "    <tr>\n",
       "      <th>MaritalStatus</th>\n",
       "      <td>-0.174723</td>\n",
       "      <td>0.106499</td>\n",
       "      <td>-0.035105</td>\n",
       "      <td>0.010097</td>\n",
       "      <td>0.006340</td>\n",
       "      <td>0.006759</td>\n",
       "      <td>0.020404</td>\n",
       "      <td>0.046603</td>\n",
       "      <td>-0.042686</td>\n",
       "      <td>0.026577</td>\n",
       "      <td>...</td>\n",
       "      <td>0.028132</td>\n",
       "      <td>0.015466</td>\n",
       "      <td>0.009225</td>\n",
       "      <td>-0.001001</td>\n",
       "      <td>-0.017582</td>\n",
       "      <td>0.098321</td>\n",
       "      <td>0.054283</td>\n",
       "      <td>0.053253</td>\n",
       "      <td>1.000000</td>\n",
       "      <td>0.099432</td>\n",
       "    </tr>\n",
       "    <tr>\n",
       "      <th>MonthlyIncome</th>\n",
       "      <td>-0.199464</td>\n",
       "      <td>0.458265</td>\n",
       "      <td>-0.030192</td>\n",
       "      <td>0.042780</td>\n",
       "      <td>-0.015845</td>\n",
       "      <td>-0.022304</td>\n",
       "      <td>-0.032873</td>\n",
       "      <td>-0.018919</td>\n",
       "      <td>0.009716</td>\n",
       "      <td>-0.000566</td>\n",
       "      <td>...</td>\n",
       "      <td>-0.011478</td>\n",
       "      <td>-0.006410</td>\n",
       "      <td>0.159862</td>\n",
       "      <td>-0.013251</td>\n",
       "      <td>-0.039607</td>\n",
       "      <td>0.727559</td>\n",
       "      <td>0.349260</td>\n",
       "      <td>0.349286</td>\n",
       "      <td>0.099432</td>\n",
       "      <td>1.000000</td>\n",
       "    </tr>\n",
       "  </tbody>\n",
       "</table>\n",
       "<p>21 rows × 21 columns</p>\n",
       "</div>"
      ],
      "text/plain": [
       "                    Attrition       Age  TravelProfile  Department  \\\n",
       "Attrition            1.000000 -0.159673       0.142459    0.084297   \n",
       "Age                 -0.159673  1.000000      -0.009944   -0.018015   \n",
       "TravelProfile        0.142459 -0.009944       1.000000    0.002855   \n",
       "Department           0.084297 -0.018015       0.002855    1.000000   \n",
       "HomeToWork           0.084556 -0.001924      -0.012555    0.002496   \n",
       "EducationField       0.063531 -0.030536      -0.019089    0.219953   \n",
       "Gender               0.043824 -0.031240      -0.051636   -0.007785   \n",
       "HourlnWeek           0.018104 -0.007466      -0.012655   -0.026148   \n",
       "Involvement          0.144332 -0.015870      -0.008559    0.031296   \n",
       "WorkLifeBalance      0.013608 -0.016150      -0.022288    0.000960   \n",
       "Designation         -0.212210  0.478253      -0.025402    0.074898   \n",
       "JobSatisfaction      0.126745 -0.014514      -0.027337    0.009591   \n",
       "ESOPs                0.012200 -0.016876       0.000569    0.014477   \n",
       "NumCompaniesWorked   0.049829  0.293341      -0.027965   -0.011623   \n",
       "OverTime             0.281113  0.017932       0.047248    0.004560   \n",
       "SalaryHikelastYear  -0.008655  0.017122      -0.029151   -0.040223   \n",
       "WorkExperience      -0.216395  0.624311      -0.004307   -0.023433   \n",
       "LastPromotion       -0.036099  0.225761       0.013330   -0.000053   \n",
       "CurrentProfile      -0.192231  0.183229       0.007505   -0.008491   \n",
       "MaritalStatus       -0.174723  0.106499      -0.035105    0.010097   \n",
       "MonthlyIncome       -0.199464  0.458265      -0.030192    0.042780   \n",
       "\n",
       "                    HomeToWork  EducationField    Gender  HourlnWeek  \\\n",
       "Attrition             0.084556        0.063531  0.043824    0.018104   \n",
       "Age                  -0.001924       -0.030536 -0.031240   -0.007466   \n",
       "TravelProfile        -0.012555       -0.019089 -0.051636   -0.012655   \n",
       "Department            0.002496        0.219953 -0.007785   -0.026148   \n",
       "HomeToWork            1.000000        0.001929 -0.010595    0.061115   \n",
       "EducationField        0.001929        1.000000  0.026914   -0.056257   \n",
       "Gender               -0.010595        0.026914  1.000000   -0.002827   \n",
       "HourlnWeek            0.061115       -0.056257 -0.002827    1.000000   \n",
       "Involvement          -0.003754        0.011896 -0.008503   -0.016806   \n",
       "WorkLifeBalance       0.022306        0.001772  0.022157    0.010608   \n",
       "Designation          -0.008522       -0.014869 -0.039288   -0.040967   \n",
       "JobSatisfaction       0.006367        0.035303 -0.034077    0.049580   \n",
       "ESOPs                 0.001636        0.005624  0.004768    0.005488   \n",
       "NumCompaniesWorked   -0.018371        0.011131 -0.018830    0.004795   \n",
       "OverTime              0.045323        0.016046 -0.021349    0.040779   \n",
       "SalaryHikelastYear    0.054478       -0.008908 -0.006019    0.000482   \n",
       "WorkExperience        0.005739       -0.034612 -0.049325   -0.015310   \n",
       "LastPromotion         0.015519       -0.049718 -0.046143   -0.031316   \n",
       "CurrentProfile        0.010926       -0.019671 -0.051770    0.000032   \n",
       "MaritalStatus         0.006340        0.006759  0.020404    0.046603   \n",
       "MonthlyIncome        -0.015845       -0.022304 -0.032873   -0.018919   \n",
       "\n",
       "                    Involvement  WorkLifeBalance  ...  JobSatisfaction  \\\n",
       "Attrition              0.144332         0.013608  ...         0.126745   \n",
       "Age                   -0.015870        -0.016150  ...        -0.014514   \n",
       "TravelProfile         -0.008559        -0.022288  ...        -0.027337   \n",
       "Department             0.031296         0.000960  ...         0.009591   \n",
       "HomeToWork            -0.003754         0.022306  ...         0.006367   \n",
       "EducationField         0.011896         0.001772  ...         0.035303   \n",
       "Gender                -0.008503         0.022157  ...        -0.034077   \n",
       "HourlnWeek            -0.016806         0.010608  ...         0.049580   \n",
       "Involvement            1.000000         0.001419  ...        -0.022173   \n",
       "WorkLifeBalance        0.001419         1.000000  ...         0.012179   \n",
       "Designation           -0.002075        -0.015892  ...        -0.022251   \n",
       "JobSatisfaction       -0.022173         0.012179  ...         1.000000   \n",
       "ESOPs                  0.028821         0.001540  ...        -0.008894   \n",
       "NumCompaniesWorked     0.007583        -0.006376  ...         0.052492   \n",
       "OverTime               0.018096         0.017203  ...        -0.024642   \n",
       "SalaryHikelastYear     0.020398        -0.000772  ...        -0.005366   \n",
       "WorkExperience        -0.009724        -0.020399  ...        -0.002739   \n",
       "LastPromotion          0.016673        -0.015454  ...         0.012061   \n",
       "CurrentProfile        -0.043625         0.000906  ...         0.010788   \n",
       "MaritalStatus         -0.042686         0.026577  ...         0.028132   \n",
       "MonthlyIncome          0.009716        -0.000566  ...        -0.011478   \n",
       "\n",
       "                       ESOPs  NumCompaniesWorked  OverTime  \\\n",
       "Attrition           0.012200            0.049829  0.281113   \n",
       "Age                -0.016876            0.293341  0.017932   \n",
       "TravelProfile       0.000569           -0.027965  0.047248   \n",
       "Department          0.014477           -0.011623  0.004560   \n",
       "HomeToWork          0.001636           -0.018371  0.045323   \n",
       "EducationField      0.005624            0.011131  0.016046   \n",
       "Gender              0.004768           -0.018830 -0.021349   \n",
       "HourlnWeek          0.005488            0.004795  0.040779   \n",
       "Involvement         0.028821            0.007583  0.018096   \n",
       "WorkLifeBalance     0.001540           -0.006376  0.017203   \n",
       "Designation        -0.005610            0.130551 -0.032356   \n",
       "JobSatisfaction    -0.008894            0.052492 -0.024642   \n",
       "ESOPs               1.000000           -0.019383  0.021112   \n",
       "NumCompaniesWorked -0.019383            1.000000 -0.007109   \n",
       "OverTime            0.021112           -0.007109  1.000000   \n",
       "SalaryHikelastYear -0.029706            0.010715  0.006521   \n",
       "WorkExperience     -0.007981            0.239274 -0.032465   \n",
       "LastPromotion      -0.014044            0.015464 -0.034373   \n",
       "CurrentProfile     -0.013517           -0.075190 -0.049908   \n",
       "MaritalStatus       0.015466            0.009225 -0.001001   \n",
       "MonthlyIncome      -0.006410            0.159862 -0.013251   \n",
       "\n",
       "                    SalaryHikelastYear  WorkExperience  LastPromotion  \\\n",
       "Attrition                    -0.008655       -0.216395      -0.036099   \n",
       "Age                           0.017122        0.624311       0.225761   \n",
       "TravelProfile                -0.029151       -0.004307       0.013330   \n",
       "Department                   -0.040223       -0.023433      -0.000053   \n",
       "HomeToWork                    0.054478        0.005739       0.015519   \n",
       "EducationField               -0.008908       -0.034612      -0.049718   \n",
       "Gender                       -0.006019       -0.049325      -0.046143   \n",
       "HourlnWeek                    0.000482       -0.015310      -0.031316   \n",
       "Involvement                   0.020398       -0.009724       0.016673   \n",
       "WorkLifeBalance              -0.000772       -0.020399      -0.015454   \n",
       "Designation                  -0.045402        0.763151       0.352879   \n",
       "JobSatisfaction              -0.005366       -0.002739       0.012061   \n",
       "ESOPs                        -0.029706       -0.007981      -0.014044   \n",
       "NumCompaniesWorked            0.010715        0.239274       0.015464   \n",
       "OverTime                      0.006521       -0.032465      -0.034373   \n",
       "SalaryHikelastYear            1.000000       -0.025502      -0.006375   \n",
       "WorkExperience               -0.025502        1.000000       0.411539   \n",
       "LastPromotion                -0.006375        0.411539       1.000000   \n",
       "CurrentProfile                0.005354        0.442901       0.488194   \n",
       "MaritalStatus                -0.017582        0.098321       0.054283   \n",
       "MonthlyIncome                -0.039607        0.727559       0.349260   \n",
       "\n",
       "                    CurrentProfile  MaritalStatus  MonthlyIncome  \n",
       "Attrition                -0.192231      -0.174723      -0.199464  \n",
       "Age                       0.183229       0.106499       0.458265  \n",
       "TravelProfile             0.007505      -0.035105      -0.030192  \n",
       "Department               -0.008491       0.010097       0.042780  \n",
       "HomeToWork                0.010926       0.006340      -0.015845  \n",
       "EducationField           -0.019671       0.006759      -0.022304  \n",
       "Gender                   -0.051770       0.020404      -0.032873  \n",
       "HourlnWeek                0.000032       0.046603      -0.018919  \n",
       "Involvement              -0.043625      -0.042686       0.009716  \n",
       "WorkLifeBalance           0.000906       0.026577      -0.000566  \n",
       "Designation               0.368116       0.093989       0.897675  \n",
       "JobSatisfaction           0.010788       0.028132      -0.011478  \n",
       "ESOPs                    -0.013517       0.015466      -0.006410  \n",
       "NumCompaniesWorked       -0.075190       0.009225       0.159862  \n",
       "OverTime                 -0.049908      -0.001001      -0.013251  \n",
       "SalaryHikelastYear        0.005354      -0.017582      -0.039607  \n",
       "WorkExperience            0.442901       0.098321       0.727559  \n",
       "LastPromotion             0.488194       0.054283       0.349260  \n",
       "CurrentProfile            1.000000       0.053253       0.349286  \n",
       "MaritalStatus             0.053253       1.000000       0.099432  \n",
       "MonthlyIncome             0.349286       0.099432       1.000000  \n",
       "\n",
       "[21 rows x 21 columns]"
      ]
     },
     "execution_count": 326,
     "metadata": {},
     "output_type": "execute_result"
    },
    {
     "data": {
      "image/png": "[encoded data removed]",
      "text/plain": [
       "<Figure size 720x720 with 2 Axes>"
      ]
     },
     "metadata": {
      "needs_background": "light"
     },
     "output_type": "display_data"
    }
   ],
   "source": [
    "corr=data.corr()\n",
    "corr=(corr)\n",
    "plt.figure(figsize=(10, 10))\n",
    "sns.heatmap(corr,\n",
    "           xticklabels=corr.columns.values,\n",
    "           yticklabels=corr.columns.values,cmap='Blues')\n",
    "corr"
   ]
  },
  {
   "cell_type": "code",
   "execution_count": 327,
   "id": "e5e93bf7",
   "metadata": {},
   "outputs": [],
   "source": [
    "data.drop(\"Income_Range\", axis=1, inplace=True)"
   ]
  },
  {
   "cell_type": "code",
   "execution_count": 328,
   "id": "9575a1af",
   "metadata": {},
   "outputs": [],
   "source": [
    "x = data.drop('Attrition',axis=1)\n",
    "y = data[\"Attrition\"]"
   ]
  },
  {
   "cell_type": "code",
   "execution_count": 408,
   "id": "4d2784e0",
   "metadata": {},
   "outputs": [],
   "source": [
    "from sklearn.model_selection import train_test_split\n",
    "x_train,x_test,y_train,y_test=train_test_split(x,y, test_size= 0.05)"
   ]
  },
  {
   "cell_type": "code",
   "execution_count": 409,
   "id": "7a9eb59a",
   "metadata": {},
   "outputs": [
    {
     "data": {
      "text/html": [
       "<div>\n",
       "<style scoped>\n",
       "    .dataframe tbody tr th:only-of-type {\n",
       "        vertical-align: middle;\n",
       "    }\n",
       "\n",
       "    .dataframe tbody tr th {\n",
       "        vertical-align: top;\n",
       "    }\n",
       "\n",
       "    .dataframe thead th {\n",
       "        text-align: right;\n",
       "    }\n",
       "</style>\n",
       "<table border=\"1\" class=\"dataframe\">\n",
       "  <thead>\n",
       "    <tr style=\"text-align: right;\">\n",
       "      <th></th>\n",
       "      <th>Age</th>\n",
       "      <th>TravelProfile</th>\n",
       "      <th>Department</th>\n",
       "      <th>HomeToWork</th>\n",
       "      <th>EducationField</th>\n",
       "      <th>Gender</th>\n",
       "      <th>HourlnWeek</th>\n",
       "      <th>Involvement</th>\n",
       "      <th>WorkLifeBalance</th>\n",
       "      <th>Designation</th>\n",
       "      <th>JobSatisfaction</th>\n",
       "      <th>ESOPs</th>\n",
       "      <th>NumCompaniesWorked</th>\n",
       "      <th>OverTime</th>\n",
       "      <th>SalaryHikelastYear</th>\n",
       "      <th>WorkExperience</th>\n",
       "      <th>LastPromotion</th>\n",
       "      <th>CurrentProfile</th>\n",
       "      <th>MaritalStatus</th>\n",
       "      <th>MonthlyIncome</th>\n",
       "    </tr>\n",
       "  </thead>\n",
       "  <tbody>\n",
       "    <tr>\n",
       "      <th>262</th>\n",
       "      <td>36.0</td>\n",
       "      <td>1</td>\n",
       "      <td>1</td>\n",
       "      <td>4.0</td>\n",
       "      <td>1</td>\n",
       "      <td>0</td>\n",
       "      <td>64.0</td>\n",
       "      <td>4.0</td>\n",
       "      <td>1.0</td>\n",
       "      <td>2</td>\n",
       "      <td>1.0</td>\n",
       "      <td>0.0</td>\n",
       "      <td>0.0</td>\n",
       "      <td>0.0</td>\n",
       "      <td>24.0</td>\n",
       "      <td>10.0</td>\n",
       "      <td>3.0</td>\n",
       "      <td>4.0</td>\n",
       "      <td>1</td>\n",
       "      <td>22644.0</td>\n",
       "    </tr>\n",
       "    <tr>\n",
       "      <th>3868</th>\n",
       "      <td>54.0</td>\n",
       "      <td>0</td>\n",
       "      <td>0</td>\n",
       "      <td>4.0</td>\n",
       "      <td>1</td>\n",
       "      <td>0</td>\n",
       "      <td>62.0</td>\n",
       "      <td>4.0</td>\n",
       "      <td>1.0</td>\n",
       "      <td>3</td>\n",
       "      <td>3.0</td>\n",
       "      <td>0.0</td>\n",
       "      <td>5.0</td>\n",
       "      <td>1.0</td>\n",
       "      <td>26.0</td>\n",
       "      <td>28.0</td>\n",
       "      <td>1.0</td>\n",
       "      <td>3.0</td>\n",
       "      <td>1</td>\n",
       "      <td>28965.0</td>\n",
       "    </tr>\n",
       "    <tr>\n",
       "      <th>4633</th>\n",
       "      <td>48.0</td>\n",
       "      <td>1</td>\n",
       "      <td>1</td>\n",
       "      <td>5.0</td>\n",
       "      <td>0</td>\n",
       "      <td>0</td>\n",
       "      <td>49.0</td>\n",
       "      <td>1.0</td>\n",
       "      <td>3.0</td>\n",
       "      <td>3</td>\n",
       "      <td>4.0</td>\n",
       "      <td>0.0</td>\n",
       "      <td>7.0</td>\n",
       "      <td>0.0</td>\n",
       "      <td>20.0</td>\n",
       "      <td>30.0</td>\n",
       "      <td>2.0</td>\n",
       "      <td>3.0</td>\n",
       "      <td>1</td>\n",
       "      <td>31972.0</td>\n",
       "    </tr>\n",
       "    <tr>\n",
       "      <th>4673</th>\n",
       "      <td>36.0</td>\n",
       "      <td>1</td>\n",
       "      <td>1</td>\n",
       "      <td>13.0</td>\n",
       "      <td>0</td>\n",
       "      <td>1</td>\n",
       "      <td>70.0</td>\n",
       "      <td>3.0</td>\n",
       "      <td>1.0</td>\n",
       "      <td>0</td>\n",
       "      <td>1.0</td>\n",
       "      <td>0.0</td>\n",
       "      <td>3.0</td>\n",
       "      <td>1.0</td>\n",
       "      <td>26.0</td>\n",
       "      <td>7.0</td>\n",
       "      <td>1.0</td>\n",
       "      <td>2.0</td>\n",
       "      <td>0</td>\n",
       "      <td>17644.0</td>\n",
       "    </tr>\n",
       "    <tr>\n",
       "      <th>131</th>\n",
       "      <td>29.0</td>\n",
       "      <td>1</td>\n",
       "      <td>1</td>\n",
       "      <td>6.0</td>\n",
       "      <td>1</td>\n",
       "      <td>0</td>\n",
       "      <td>80.0</td>\n",
       "      <td>3.0</td>\n",
       "      <td>4.0</td>\n",
       "      <td>0</td>\n",
       "      <td>4.0</td>\n",
       "      <td>0.0</td>\n",
       "      <td>2.0</td>\n",
       "      <td>0.0</td>\n",
       "      <td>25.0</td>\n",
       "      <td>2.0</td>\n",
       "      <td>1.0</td>\n",
       "      <td>9.0</td>\n",
       "      <td>1</td>\n",
       "      <td>18856.0</td>\n",
       "    </tr>\n",
       "  </tbody>\n",
       "</table>\n",
       "</div>"
      ],
      "text/plain": [
       "       Age  TravelProfile  Department  HomeToWork  EducationField  Gender  \\\n",
       "262   36.0              1           1         4.0               1       0   \n",
       "3868  54.0              0           0         4.0               1       0   \n",
       "4633  48.0              1           1         5.0               0       0   \n",
       "4673  36.0              1           1        13.0               0       1   \n",
       "131   29.0              1           1         6.0               1       0   \n",
       "\n",
       "      HourlnWeek  Involvement  WorkLifeBalance  Designation  JobSatisfaction  \\\n",
       "262         64.0          4.0              1.0            2              1.0   \n",
       "3868        62.0          4.0              1.0            3              3.0   \n",
       "4633        49.0          1.0              3.0            3              4.0   \n",
       "4673        70.0          3.0              1.0            0              1.0   \n",
       "131         80.0          3.0              4.0            0              4.0   \n",
       "\n",
       "      ESOPs  NumCompaniesWorked  OverTime  SalaryHikelastYear  WorkExperience  \\\n",
       "262     0.0                 0.0       0.0                24.0            10.0   \n",
       "3868    0.0                 5.0       1.0                26.0            28.0   \n",
       "4633    0.0                 7.0       0.0                20.0            30.0   \n",
       "4673    0.0                 3.0       1.0                26.0             7.0   \n",
       "131     0.0                 2.0       0.0                25.0             2.0   \n",
       "\n",
       "      LastPromotion  CurrentProfile  MaritalStatus  MonthlyIncome  \n",
       "262             3.0             4.0              1        22644.0  \n",
       "3868            1.0             3.0              1        28965.0  \n",
       "4633            2.0             3.0              1        31972.0  \n",
       "4673            1.0             2.0              0        17644.0  \n",
       "131             1.0             9.0              1        18856.0  "
      ]
     },
     "execution_count": 409,
     "metadata": {},
     "output_type": "execute_result"
    }
   ],
   "source": [
    "x_train.head()"
   ]
  },
  {
   "cell_type": "code",
   "execution_count": 410,
   "id": "3189be0e",
   "metadata": {},
   "outputs": [
    {
     "data": {
      "text/plain": [
       "RandomForestClassifier(criterion='entropy', n_estimators=10, random_state=0)"
      ]
     },
     "execution_count": 410,
     "metadata": {},
     "output_type": "execute_result"
    }
   ],
   "source": [
    "from sklearn.ensemble import RandomForestClassifier\n",
    "forest = RandomForestClassifier(n_estimators = 10, criterion = 'entropy', random_state = 0)\n",
    "forest.fit(x_train, y_train)"
   ]
  },
  {
   "cell_type": "code",
   "execution_count": 411,
   "id": "aa23cddb",
   "metadata": {},
   "outputs": [
    {
     "data": {
      "text/plain": [
       "0.9993903678114204"
      ]
     },
     "execution_count": 411,
     "metadata": {},
     "output_type": "execute_result"
    }
   ],
   "source": [
    "forest.score(x_train, y_train)"
   ]
  },
  {
   "cell_type": "code",
   "execution_count": 412,
   "id": "ad16930d",
   "metadata": {},
   "outputs": [
    {
     "name": "stdout",
     "output_type": "stream",
     "text": [
      "[[180   1]\n",
      " [  3  75]]\n",
      "Model Testing Accuracy = \"0.9845559845559846!\"\n",
      "\n"
     ]
    }
   ],
   "source": [
    "from sklearn.metrics import confusion_matrix\n",
    "\n",
    "cm = confusion_matrix(y_test, forest.predict(x_test))\n",
    "  \n",
    "TN = cm[0][0]\n",
    "TP = cm[1][1]\n",
    "FN = cm[1][0]\n",
    "FP = cm[0][1]\n",
    "  \n",
    "print(cm)\n",
    "print('Model Testing Accuracy = \"{}!\"'.format(  (TP + TN) / (TP + TN + FN + FP)))\n",
    "print()# Print a new line"
   ]
  },
  {
   "cell_type": "code",
   "execution_count": 413,
   "id": "67e6702c",
   "metadata": {},
   "outputs": [],
   "source": [
    "reg_rf= RandomForestClassifier()\n",
    "from sklearn.model_selection import RandomizedSearchCV\n",
    "n_estimators=[int(x) for x in np.linspace(start=100, stop=1200, num=6)]\n",
    "max_depth=[int(x) for x in np.linspace(start=5, stop=30, num=4)]\n",
    "random_grid={\n",
    "    'n_estimators': n_estimators,\n",
    "    'max_features': ['auto','sqrt'],\n",
    "    'max_depth':max_depth,\n",
    "    'min_samples_split':[5,10,15,100]}"
   ]
  },
  {
   "cell_type": "code",
   "execution_count": 414,
   "id": "29ed1dd0",
   "metadata": {},
   "outputs": [
    {
     "data": {
      "text/plain": [
       "{'n_estimators': [100, 320, 540, 760, 980, 1200],\n",
       " 'max_features': ['auto', 'sqrt'],\n",
       " 'max_depth': [5, 13, 21, 30],\n",
       " 'min_samples_split': [5, 10, 15, 100]}"
      ]
     },
     "execution_count": 414,
     "metadata": {},
     "output_type": "execute_result"
    }
   ],
   "source": [
    "random_grid"
   ]
  },
  {
   "cell_type": "code",
   "execution_count": 415,
   "id": "f0bbe3ae",
   "metadata": {},
   "outputs": [],
   "source": [
    "rf_random=RandomizedSearchCV(estimator= reg_rf, param_distributions= random_grid, cv=10, verbose=2, n_jobs=-1)"
   ]
  },
  {
   "cell_type": "code",
   "execution_count": 416,
   "id": "5c8001df",
   "metadata": {},
   "outputs": [
    {
     "name": "stdout",
     "output_type": "stream",
     "text": [
      "Fitting 10 folds for each of 10 candidates, totalling 100 fits\n"
     ]
    },
    {
     "data": {
      "text/plain": [
       "RandomizedSearchCV(cv=10, estimator=RandomForestClassifier(), n_jobs=-1,\n",
       "                   param_distributions={'max_depth': [5, 13, 21, 30],\n",
       "                                        'max_features': ['auto', 'sqrt'],\n",
       "                                        'min_samples_split': [5, 10, 15, 100],\n",
       "                                        'n_estimators': [100, 320, 540, 760,\n",
       "                                                         980, 1200]},\n",
       "                   verbose=2)"
      ]
     },
     "execution_count": 416,
     "metadata": {},
     "output_type": "execute_result"
    }
   ],
   "source": [
    "rf_random.fit(x_train, y_train)"
   ]
  },
  {
   "cell_type": "code",
   "execution_count": 417,
   "id": "679d6657",
   "metadata": {},
   "outputs": [
    {
     "data": {
      "text/plain": [
       "{'n_estimators': 760,\n",
       " 'min_samples_split': 5,\n",
       " 'max_features': 'auto',\n",
       " 'max_depth': 30}"
      ]
     },
     "execution_count": 417,
     "metadata": {},
     "output_type": "execute_result"
    }
   ],
   "source": [
    "rf_random.best_params_"
   ]
  },
  {
   "cell_type": "code",
   "execution_count": 418,
   "id": "b161a0d9",
   "metadata": {},
   "outputs": [],
   "source": [
    "prediction=rf_random.predict(x_test)"
   ]
  },
  {
   "cell_type": "code",
   "execution_count": 419,
   "id": "77e847f6",
   "metadata": {},
   "outputs": [
    {
     "name": "stdout",
     "output_type": "stream",
     "text": [
      "[[180   1]\n",
      " [  3  75]]\n",
      "Model Testing Accuracy = \"0.9845559845559846!\"\n",
      "\n"
     ]
    }
   ],
   "source": [
    "from sklearn.metrics import confusion_matrix\n",
    "\n",
    "cm = confusion_matrix(y_test, rf_random.predict(x_test))\n",
    "  \n",
    "TN = cm[0][0]\n",
    "TP = cm[1][1]\n",
    "FN = cm[1][0]\n",
    "FP = cm[0][1]\n",
    "  \n",
    "print(cm)\n",
    "print('Model Testing Accuracy = \"{}!\"'.format(  (TP + TN) / (TP + TN + FN + FP)))\n",
    "print()# Print a new line"
   ]
  },
  {
   "cell_type": "code",
   "execution_count": 298,
   "id": "83a2f356",
   "metadata": {},
   "outputs": [],
   "source": [
    "from xgboost import XGBClassifier"
   ]
  },
  {
   "cell_type": "code",
   "execution_count": 299,
   "id": "4eaf835e",
   "metadata": {},
   "outputs": [
    {
     "name": "stderr",
     "output_type": "stream",
     "text": [
      "C:\\ProgramData\\Anaconda3\\lib\\site-packages\\xgboost\\sklearn.py:1224: UserWarning: The use of label encoder in XGBClassifier is deprecated and will be removed in a future release. To remove this warning, do the following: 1) Pass option use_label_encoder=False when constructing XGBClassifier object; and 2) Encode your labels (y) as integers starting with 0, i.e. 0, 1, 2, ..., [num_class - 1].\n",
      "  warnings.warn(label_encoder_deprecation_msg, UserWarning)\n"
     ]
    },
    {
     "name": "stdout",
     "output_type": "stream",
     "text": [
      "[16:01:24] WARNING: C:/Users/Administrator/workspace/xgboost-win64_release_1.5.1/src/learner.cc:1115: Starting in XGBoost 1.3.0, the default evaluation metric used with the objective 'binary:logistic' was changed from 'error' to 'logloss'. Explicitly set eval_metric if you'd like to restore the old behavior.\n"
     ]
    },
    {
     "data": {
      "text/plain": [
       "XGBClassifier(base_score=0.5, booster='gbtree', colsample_bylevel=1,\n",
       "              colsample_bynode=1, colsample_bytree=1, enable_categorical=False,\n",
       "              gamma=0, gpu_id=-1, importance_type=None,\n",
       "              interaction_constraints='', learning_rate=0.300000012,\n",
       "              max_delta_step=0, max_depth=6, min_child_weight=1, missing=nan,\n",
       "              monotone_constraints='()', n_estimators=100, n_jobs=8,\n",
       "              num_parallel_tree=1, predictor='auto', random_state=0,\n",
       "              reg_alpha=0, reg_lambda=1, scale_pos_weight=1, subsample=1,\n",
       "              tree_method='exact', validate_parameters=1, verbosity=None)"
      ]
     },
     "execution_count": 299,
     "metadata": {},
     "output_type": "execute_result"
    }
   ],
   "source": [
    "model = XGBClassifier()\n",
    "model.fit(x_train, y_train)"
   ]
  },
  {
   "cell_type": "code",
   "execution_count": 301,
   "id": "d7c5430e",
   "metadata": {},
   "outputs": [
    {
     "name": "stdout",
     "output_type": "stream",
     "text": [
      "Accuracy: 98.65%\n"
     ]
    }
   ],
   "source": [
    "y_pred = model.predict(x_test)\n",
    "predictions = [round(value) for value in y_pred]\n",
    "# evaluate predictions\n",
    "from sklearn.metrics import accuracy_score\n",
    "accuracy = accuracy_score(y_test, predictions)\n",
    "print(\"Accuracy: %.2f%%\" % (accuracy * 100.0))"
   ]
  },
  {
   "cell_type": "code",
   "execution_count": 302,
   "id": "b3ddbcbb",
   "metadata": {},
   "outputs": [
    {
     "name": "stdout",
     "output_type": "stream",
     "text": [
      "[[741   8]\n",
      " [  6 281]]\n",
      "Model Testing Accuracy = \"0.9864864864864865!\"\n",
      "\n"
     ]
    }
   ],
   "source": [
    "from sklearn.metrics import confusion_matrix\n",
    "\n",
    "cm = confusion_matrix(y_test, model.predict(x_test))\n",
    "  \n",
    "TN = cm[0][0]\n",
    "TP = cm[1][1]\n",
    "FN = cm[1][0]\n",
    "FP = cm[0][1]\n",
    "  \n",
    "print(cm)\n",
    "print('Model Testing Accuracy = \"{}!\"'.format(  (TP + TN) / (TP + TN + FN + FP)))\n",
    "print()# Print a new line"
   ]
  },
  {
   "cell_type": "code",
   "execution_count": 305,
   "id": "c27da708",
   "metadata": {},
   "outputs": [],
   "source": [
    "reg_rf= XGBClassifier()\n",
    "from sklearn.model_selection import RandomizedSearchCV\n",
    "n_estimators=[int(x) for x in np.linspace(start=100, stop=1200, num=6)]\n",
    "max_depth=[int(x) for x in np.linspace(start=5, stop=30, num=4)]\n",
    "random_grid={\n",
    "    'n_estimators': n_estimators,\n",
    "    'max_features': ['auto','sqrt'],\n",
    "    'max_depth':max_depth,\n",
    "    'min_samples_split':[5,10,15,100]}"
   ]
  },
  {
   "cell_type": "code",
   "execution_count": 306,
   "id": "d8ff6ad5",
   "metadata": {},
   "outputs": [
    {
     "data": {
      "text/plain": [
       "{'n_estimators': [100, 320, 540, 760, 980, 1200],\n",
       " 'max_features': ['auto', 'sqrt'],\n",
       " 'max_depth': [5, 13, 21, 30],\n",
       " 'min_samples_split': [5, 10, 15, 100]}"
      ]
     },
     "execution_count": 306,
     "metadata": {},
     "output_type": "execute_result"
    }
   ],
   "source": [
    "random_grid"
   ]
  },
  {
   "cell_type": "code",
   "execution_count": 420,
   "id": "a018ce1c",
   "metadata": {},
   "outputs": [],
   "source": [
    "local_dest = open(\"C:\\\\Users\\\\adithya\\\\Documents\\M.Tech_ML_2/Hackathon\\ml2_hackathon.pkl\", \"wb\")\n",
    "import pickle\n",
    "pickle.dump(rf_random,local_dest)"
   ]
  },
  {
   "cell_type": "code",
   "execution_count": null,
   "id": "3b8c929f",
   "metadata": {},
   "outputs": [],
   "source": [
    "predictions2=r_forest.predict(new_data)"
   ]
  }
 ],
 "metadata": {
  "kernelspec": {
   "display_name": "Python 3 (ipykernel)",
   "language": "python",
   "name": "python3"
  },
  "language_info": {
   "codemirror_mode": {
    "name": "ipython",
    "version": 3
   },
   "file_extension": ".py",
   "mimetype": "text/x-python",
   "name": "python",
   "nbconvert_exporter": "python",
   "pygments_lexer": "ipython3",
   "version": "3.9.12"
  }
 },
 "nbformat": 4,
 "nbformat_minor": 5
}
