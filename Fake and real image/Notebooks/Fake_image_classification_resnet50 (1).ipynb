{
  "cells": [
    {
      "cell_type": "code",
      "execution_count": null,
      "metadata": {
        "id": "uEbReWfcN_zk"
      },
      "outputs": [],
      "source": [
        "from tensorflow.keras.preprocessing.image import ImageDataGenerator\n",
        "from tensorflow.keras.layers import GlobalAveragePooling2D\n",
        "from tensorflow.keras.layers import BatchNormalization\n",
        "from tensorflow.keras.applications import MobileNetV2\n",
        "from keras.applications.vgg16 import VGG16\n",
        "from keras.models import Model\n",
        "from tensorflow.keras.optimizers import Adam\n",
        "from tensorflow.keras.layers import Dropout\n",
        "from tensorflow.keras.layers import Dense, Flatten, Conv2D, MaxPool2D, ZeroPadding2D\n",
        "from tensorflow.keras import Sequential\n",
        "import matplotlib.pyplot as plt\n",
        "import tensorflow as tf\n",
        "import numpy as np\n",
        "import pandas as pd\n",
        "import cv2\n",
        "import os"
      ]
    },
    {
      "cell_type": "code",
      "execution_count": null,
      "metadata": {
        "id": "BmL7YVgtBGIw",
        "colab": {
          "base_uri": "https://localhost:8080/"
        },
        "outputId": "bb15bc84-e50f-43df-97c1-b3dc8ad78d2e"
      },
      "outputs": [
        {
          "output_type": "stream",
          "name": "stdout",
          "text": [
            "Drive already mounted at /content/drive; to attempt to forcibly remount, call drive.mount(\"/content/drive\", force_remount=True).\n"
          ]
        }
      ],
      "source": [
        "from google.colab import drive\n",
        "drive.mount('/content/drive')"
      ]
    },
    {
      "cell_type": "code",
      "execution_count": null,
      "metadata": {
        "id": "EMR7SkkI4-wk",
        "colab": {
          "base_uri": "https://localhost:8080/"
        },
        "outputId": "5a0f8960-babe-49d0-a557-dce795590a36"
      },
      "outputs": [
        {
          "output_type": "stream",
          "name": "stdout",
          "text": [
            "Found GPU at: /device:GPU:0\n"
          ]
        }
      ],
      "source": [
        "%tensorflow_version 2.x\n",
        "import tensorflow as tf\n",
        "device_name = tf.test.gpu_device_name()\n",
        "if device_name != '/device:GPU:0':\n",
        "  raise SystemError('GPU device not found')\n",
        "print('Found GPU at: {}'.format(device_name))"
      ]
    },
    {
      "cell_type": "code",
      "execution_count": null,
      "metadata": {
        "id": "XoVOXlTbZBBN"
      },
      "outputs": [],
      "source": [
        "os.chdir(\"/content/drive/MyDrive/DL_Hackathon/dataset\")"
      ]
    },
    {
      "cell_type": "code",
      "execution_count": null,
      "metadata": {
        "id": "58qyUKWTOQni",
        "colab": {
          "base_uri": "https://localhost:8080/"
        },
        "outputId": "b8aeb7c0-99b5-4b61-cf0f-cc53dd5b9739"
      },
      "outputs": [
        {
          "output_type": "stream",
          "name": "stdout",
          "text": [
            "test  train\n"
          ]
        }
      ],
      "source": [
        "!ls"
      ]
    },
    {
      "cell_type": "code",
      "execution_count": null,
      "metadata": {
        "id": "ruQEtoObZfen"
      },
      "outputs": [],
      "source": [
        "real_path = \"/content/drive/MyDrive/DL_Hackathon/dataset/train/training_real\"\n",
        "fake_path = \"/content/drive/MyDrive/DL_Hackathon/dataset/train/training_fake\""
      ]
    },
    {
      "cell_type": "code",
      "execution_count": null,
      "metadata": {
        "id": "-M1y5SPidMGm"
      },
      "outputs": [],
      "source": [
        "real_images = os.listdir(real_path)\n",
        "fake_images = os.listdir(fake_path)"
      ]
    },
    {
      "cell_type": "code",
      "source": [
        "real_images[0]"
      ],
      "metadata": {
        "colab": {
          "base_uri": "https://localhost:8080/",
          "height": 35
        },
        "id": "-aV1dtLBNjTc",
        "outputId": "020bf901-1f44-41e0-f749-63301e9de359"
      },
      "execution_count": null,
      "outputs": [
        {
          "output_type": "execute_result",
          "data": {
            "text/plain": [
              "'1033.jpg'"
            ],
            "application/vnd.google.colaboratory.intrinsic+json": {
              "type": "string"
            }
          },
          "metadata": {},
          "execution_count": 11
        }
      ]
    },
    {
      "cell_type": "code",
      "execution_count": null,
      "metadata": {
        "id": "FnA3_eTJeXYX"
      },
      "outputs": [],
      "source": [
        "def load_img(path):\n",
        "  image = cv2.imread(path)\n",
        "  image = cv2.resize(image, (224, 224))\n",
        "  return image[..., ::-1]"
      ]
    },
    {
      "cell_type": "code",
      "execution_count": null,
      "metadata": {
        "id": "e7iZPmF5xfpQ"
      },
      "outputs": [],
      "source": [
        "dataset_path = \"../dataset/train/\""
      ]
    },
    {
      "cell_type": "code",
      "execution_count": null,
      "metadata": {
        "id": "d6OtVafly5qI"
      },
      "outputs": [],
      "source": [
        "data_with_aug = ImageDataGenerator( rotation_range=40, width_shift_range=0.2, height_shift_range=0.2, shear_range=0.2, zoom_range=0.2,\n",
        "                                   horizontal_flip = True, vertical_flip = False, rescale = 1./255, validation_split = 0.1)\n",
        "# data_with_aug = ImageDataGenerator()"
      ]
    },
    {
      "cell_type": "code",
      "execution_count": null,
      "metadata": {
        "id": "uzaea0oMzElq",
        "colab": {
          "base_uri": "https://localhost:8080/"
        },
        "outputId": "4afd88c3-c726-40c4-ffa7-243070ce09ec"
      },
      "outputs": [
        {
          "output_type": "stream",
          "name": "stdout",
          "text": [
            "Found 1539 images belonging to 2 classes.\n"
          ]
        }
      ],
      "source": [
        "train = data_with_aug.flow_from_directory(dataset_path, target_size = (96, 96), batch_size = 32, subset = 'training')"
      ]
    },
    {
      "cell_type": "code",
      "execution_count": null,
      "metadata": {
        "id": "7kcZ1xgrzh7a",
        "colab": {
          "base_uri": "https://localhost:8080/"
        },
        "outputId": "e215249e-955c-4d63-b7fc-0e054a9fa2f4"
      },
      "outputs": [
        {
          "output_type": "stream",
          "name": "stdout",
          "text": [
            "Found 170 images belonging to 2 classes.\n"
          ]
        }
      ],
      "source": [
        "val = data_with_aug.flow_from_directory(dataset_path, target_size = (96, 96), batch_size = 32, subset = 'validation')"
      ]
    },
    {
      "cell_type": "code",
      "execution_count": null,
      "metadata": {
        "id": "EREmP5nfz3U1",
        "colab": {
          "base_uri": "https://localhost:8080/"
        },
        "outputId": "b3a1d56c-249c-41e7-cc97-96f32d1c8689"
      },
      "outputs": [
        {
          "output_type": "stream",
          "name": "stdout",
          "text": [
            "Downloading data from https://storage.googleapis.com/tensorflow/keras-applications/vgg19/vgg19_weights_tf_dim_ordering_tf_kernels.h5\n",
            "574717952/574710816 [==============================] - 3s 0us/step\n",
            "574726144/574710816 [==============================] - 3s 0us/step\n"
          ]
        }
      ],
      "source": [
        "from keras.applications.vgg19 import VGG19\n",
        "vggmodel = VGG19(weights='imagenet', include_top=True)"
      ]
    },
    {
      "cell_type": "code",
      "execution_count": null,
      "metadata": {
        "id": "eG2V9bqZ0E9h"
      },
      "outputs": [],
      "source": [
        "model = Sequential([vggmodel.layers[-5],\n",
        "                    GlobalAveragePooling2D(),\n",
        "                    Dense(512, activation = \"relu\"),\n",
        "                    BatchNormalization(),\n",
        "                    Dropout(0.3),\n",
        "                    Dense(128, activation = \"relu\"),\n",
        "                    Dropout(0.1),\n",
        "                    Dense(2, activation = \"sigmoid\")])\n",
        "\n",
        "model.layers[0].trainable = False"
      ]
    },
    {
      "cell_type": "code",
      "execution_count": null,
      "metadata": {
        "id": "koqxt_wVETgL"
      },
      "outputs": [],
      "source": [
        "model.compile(loss = \"binary_crossentropy\", optimizer = tf.keras.optimizers.SGD(learning_rate=0.0001, momentum=0.9), metrics=[\"accuracy\"])"
      ]
    },
    {
      "cell_type": "code",
      "source": [
        "checkpoint = tf.keras.callbacks.ModelCheckpoint(\"vgg19_model.h5\", monitor='val_accuracy', verbose=1, save_best_only=True, save_weights_only=False, mode='auto')\n",
        "early = tf.keras.callbacks.EarlyStopping(monitor='val_accuracy', min_delta=0, patience=40, verbose=1, mode='auto')\n",
        "\n",
        "hist = model.fit(train, steps_per_epoch= 1539//32, epochs= 100, validation_data= val, validation_steps=170//32, callbacks=[checkpoint,early])"
      ],
      "metadata": {
        "id": "rv1PaY-wpsIJ",
        "colab": {
          "base_uri": "https://localhost:8080/"
        },
        "outputId": "434f9b48-0fc1-464d-88ae-7b272573d6cc"
      },
      "execution_count": null,
      "outputs": [
        {
          "output_type": "stream",
          "name": "stdout",
          "text": [
            "Epoch 1/100\n",
            "48/48 [==============================] - ETA: 0s - loss: 0.6993 - accuracy: 0.5514\n",
            "Epoch 1: val_accuracy improved from -inf to 0.53750, saving model to vgg19_model.h5\n",
            "48/48 [==============================] - 208s 4s/step - loss: 0.6993 - accuracy: 0.5514 - val_loss: 0.6924 - val_accuracy: 0.5375\n",
            "Epoch 2/100\n",
            "48/48 [==============================] - ETA: 0s - loss: 0.6939 - accuracy: 0.5554\n",
            "Epoch 2: val_accuracy did not improve from 0.53750\n",
            "48/48 [==============================] - 23s 476ms/step - loss: 0.6939 - accuracy: 0.5554 - val_loss: 0.6926 - val_accuracy: 0.5375\n",
            "Epoch 3/100\n",
            "48/48 [==============================] - ETA: 0s - loss: 0.6951 - accuracy: 0.5335\n",
            "Epoch 3: val_accuracy improved from 0.53750 to 0.54375, saving model to vgg19_model.h5\n",
            "48/48 [==============================] - 23s 476ms/step - loss: 0.6951 - accuracy: 0.5335 - val_loss: 0.6922 - val_accuracy: 0.5437\n",
            "Epoch 4/100\n",
            "48/48 [==============================] - ETA: 0s - loss: 0.7008 - accuracy: 0.5355\n",
            "Epoch 4: val_accuracy did not improve from 0.54375\n",
            "48/48 [==============================] - 23s 473ms/step - loss: 0.7008 - accuracy: 0.5355 - val_loss: 0.6923 - val_accuracy: 0.5188\n",
            "Epoch 5/100\n",
            "48/48 [==============================] - ETA: 0s - loss: 0.6944 - accuracy: 0.5401\n",
            "Epoch 5: val_accuracy did not improve from 0.54375\n",
            "48/48 [==============================] - 24s 502ms/step - loss: 0.6944 - accuracy: 0.5401 - val_loss: 0.6921 - val_accuracy: 0.5312\n",
            "Epoch 6/100\n",
            "48/48 [==============================] - ETA: 0s - loss: 0.6975 - accuracy: 0.5348\n",
            "Epoch 6: val_accuracy did not improve from 0.54375\n",
            "48/48 [==============================] - 23s 477ms/step - loss: 0.6975 - accuracy: 0.5348 - val_loss: 0.6922 - val_accuracy: 0.5312\n",
            "Epoch 7/100\n",
            "48/48 [==============================] - ETA: 0s - loss: 0.6939 - accuracy: 0.5508\n",
            "Epoch 7: val_accuracy improved from 0.54375 to 0.56875, saving model to vgg19_model.h5\n",
            "48/48 [==============================] - 24s 493ms/step - loss: 0.6939 - accuracy: 0.5508 - val_loss: 0.6902 - val_accuracy: 0.5688\n",
            "Epoch 8/100\n",
            "48/48 [==============================] - ETA: 0s - loss: 0.6920 - accuracy: 0.5594\n",
            "Epoch 8: val_accuracy did not improve from 0.56875\n",
            "48/48 [==============================] - 23s 478ms/step - loss: 0.6920 - accuracy: 0.5594 - val_loss: 0.6906 - val_accuracy: 0.5625\n",
            "Epoch 9/100\n",
            "48/48 [==============================] - ETA: 0s - loss: 0.6975 - accuracy: 0.5143\n",
            "Epoch 9: val_accuracy did not improve from 0.56875\n",
            "48/48 [==============================] - 24s 502ms/step - loss: 0.6975 - accuracy: 0.5143 - val_loss: 0.6909 - val_accuracy: 0.5500\n",
            "Epoch 10/100\n",
            "48/48 [==============================] - ETA: 0s - loss: 0.6951 - accuracy: 0.5534\n",
            "Epoch 10: val_accuracy did not improve from 0.56875\n",
            "48/48 [==============================] - 23s 475ms/step - loss: 0.6951 - accuracy: 0.5534 - val_loss: 0.6921 - val_accuracy: 0.5437\n",
            "Epoch 11/100\n",
            "48/48 [==============================] - ETA: 0s - loss: 0.6904 - accuracy: 0.5494\n",
            "Epoch 11: val_accuracy did not improve from 0.56875\n",
            "48/48 [==============================] - 23s 476ms/step - loss: 0.6904 - accuracy: 0.5494 - val_loss: 0.6880 - val_accuracy: 0.5375\n",
            "Epoch 12/100\n",
            "48/48 [==============================] - ETA: 0s - loss: 0.6962 - accuracy: 0.5395\n",
            "Epoch 12: val_accuracy did not improve from 0.56875\n",
            "48/48 [==============================] - 23s 474ms/step - loss: 0.6962 - accuracy: 0.5395 - val_loss: 0.6903 - val_accuracy: 0.5000\n",
            "Epoch 13/100\n",
            "48/48 [==============================] - ETA: 0s - loss: 0.6902 - accuracy: 0.5601\n",
            "Epoch 13: val_accuracy did not improve from 0.56875\n",
            "48/48 [==============================] - 24s 495ms/step - loss: 0.6902 - accuracy: 0.5601 - val_loss: 0.6884 - val_accuracy: 0.5500\n",
            "Epoch 14/100\n",
            "48/48 [==============================] - ETA: 0s - loss: 0.6954 - accuracy: 0.5528\n",
            "Epoch 14: val_accuracy did not improve from 0.56875\n",
            "48/48 [==============================] - 23s 472ms/step - loss: 0.6954 - accuracy: 0.5528 - val_loss: 0.6885 - val_accuracy: 0.5125\n",
            "Epoch 15/100\n",
            "48/48 [==============================] - ETA: 0s - loss: 0.6943 - accuracy: 0.5521\n",
            "Epoch 15: val_accuracy did not improve from 0.56875\n",
            "48/48 [==============================] - 23s 477ms/step - loss: 0.6943 - accuracy: 0.5521 - val_loss: 0.6906 - val_accuracy: 0.5375\n",
            "Epoch 16/100\n",
            "48/48 [==============================] - ETA: 0s - loss: 0.6946 - accuracy: 0.5441\n",
            "Epoch 16: val_accuracy did not improve from 0.56875\n",
            "48/48 [==============================] - 23s 487ms/step - loss: 0.6946 - accuracy: 0.5441 - val_loss: 0.6934 - val_accuracy: 0.5188\n",
            "Epoch 17/100\n",
            "48/48 [==============================] - ETA: 0s - loss: 0.6919 - accuracy: 0.5375\n",
            "Epoch 17: val_accuracy did not improve from 0.56875\n",
            "48/48 [==============================] - 23s 476ms/step - loss: 0.6919 - accuracy: 0.5375 - val_loss: 0.6929 - val_accuracy: 0.4938\n",
            "Epoch 18/100\n",
            "48/48 [==============================] - ETA: 0s - loss: 0.6922 - accuracy: 0.5514\n",
            "Epoch 18: val_accuracy did not improve from 0.56875\n",
            "48/48 [==============================] - 23s 474ms/step - loss: 0.6922 - accuracy: 0.5514 - val_loss: 0.6953 - val_accuracy: 0.5063\n",
            "Epoch 19/100\n",
            "48/48 [==============================] - ETA: 0s - loss: 0.6948 - accuracy: 0.5388\n",
            "Epoch 19: val_accuracy did not improve from 0.56875\n",
            "48/48 [==============================] - 23s 480ms/step - loss: 0.6948 - accuracy: 0.5388 - val_loss: 0.6894 - val_accuracy: 0.5188\n",
            "Epoch 20/100\n",
            "48/48 [==============================] - ETA: 0s - loss: 0.6911 - accuracy: 0.5620\n",
            "Epoch 20: val_accuracy did not improve from 0.56875\n",
            "48/48 [==============================] - 23s 472ms/step - loss: 0.6911 - accuracy: 0.5620 - val_loss: 0.6925 - val_accuracy: 0.5437\n",
            "Epoch 21/100\n",
            "48/48 [==============================] - ETA: 0s - loss: 0.6956 - accuracy: 0.5528\n",
            "Epoch 21: val_accuracy did not improve from 0.56875\n",
            "48/48 [==============================] - 23s 475ms/step - loss: 0.6956 - accuracy: 0.5528 - val_loss: 0.6923 - val_accuracy: 0.5250\n",
            "Epoch 22/100\n",
            "48/48 [==============================] - ETA: 0s - loss: 0.6882 - accuracy: 0.5594\n",
            "Epoch 22: val_accuracy did not improve from 0.56875\n",
            "48/48 [==============================] - 24s 501ms/step - loss: 0.6882 - accuracy: 0.5594 - val_loss: 0.6903 - val_accuracy: 0.5375\n",
            "Epoch 23/100\n",
            "48/48 [==============================] - ETA: 0s - loss: 0.6915 - accuracy: 0.5605\n",
            "Epoch 23: val_accuracy did not improve from 0.56875\n",
            "48/48 [==============================] - 23s 479ms/step - loss: 0.6915 - accuracy: 0.5605 - val_loss: 0.6952 - val_accuracy: 0.5188\n",
            "Epoch 24/100\n",
            "48/48 [==============================] - ETA: 0s - loss: 0.6918 - accuracy: 0.5528\n",
            "Epoch 24: val_accuracy did not improve from 0.56875\n",
            "48/48 [==============================] - 23s 479ms/step - loss: 0.6918 - accuracy: 0.5528 - val_loss: 0.6988 - val_accuracy: 0.5188\n"
          ]
        }
      ]
    },
    {
      "cell_type": "code",
      "execution_count": null,
      "metadata": {
        "id": "H8mlDMJ_DGFj"
      },
      "outputs": [],
      "source": [
        "train.class_indices"
      ]
    },
    {
      "cell_type": "code",
      "execution_count": null,
      "metadata": {
        "id": "tYXdO2hB1qow"
      },
      "outputs": [],
      "source": [
        "epochs = 20\n",
        "train_loss = hist.history['loss']\n",
        "val_loss = hist.history['val_loss']\n",
        "train_acc = hist.history['accuracy']\n",
        "val_acc = hist.history['val_accuracy']\n",
        "xc = range(epochs)\n",
        "\n",
        "plt.figure(1, figsize = (9, 7))\n",
        "plt.plot(xc, train_loss)\n",
        "plt.plot(xc, val_loss)\n",
        "plt.xlabel('Number of Epochs')\n",
        "plt.ylabel('Loss')\n",
        "plt.title('train_loss vs. val_loss')\n",
        "plt.grid(True)\n",
        "plt.legend(['train', 'val'])\n",
        "plt.show()\n",
        "# plt.style.use(['classic'])\n",
        "\n"
      ]
    },
    {
      "cell_type": "code",
      "execution_count": null,
      "metadata": {
        "id": "EVqYZQXObLT9"
      },
      "outputs": [],
      "source": [
        "plt.figure(figsize = (9, 7))\n",
        "plt.plot(xc, train_acc)\n",
        "plt.plot(xc, val_acc)\n",
        "plt.xlabel('Number of Epochs')\n",
        "plt.ylabel('Accuracy')\n",
        "plt.title('train_accuracy vs. val_accuracy')\n",
        "plt.grid(True)\n",
        "plt.legend(['train','val'], loc = 4)\n",
        "plt.show()\n",
        "# plt.style.use(['classic'])"
      ]
    },
    {
      "cell_type": "code",
      "execution_count": null,
      "metadata": {
        "id": "4YeThI48nN7X"
      },
      "outputs": [],
      "source": []
    },
    {
      "cell_type": "code",
      "execution_count": null,
      "metadata": {
        "id": "gsxwAjHeCZDz"
      },
      "outputs": [],
      "source": [
        "test_path = \"/content/drive/MyDrive/DL_Hackathon/dataset/test/test_images\""
      ]
    },
    {
      "cell_type": "code",
      "execution_count": null,
      "metadata": {
        "id": "Zis5xgjHCpNA"
      },
      "outputs": [],
      "source": [
        "test_images = os.listdir(test_path)"
      ]
    },
    {
      "cell_type": "code",
      "execution_count": null,
      "metadata": {
        "id": "bKSsGInHCR1x"
      },
      "outputs": [],
      "source": [
        "plt.figure(figsize = (12, 12))\n",
        "\n",
        "for i in range(16):\n",
        "  plt.subplot(4, 4, i + 1)\n",
        "  plt.tight_layout()\n",
        "  plt.imshow(load_img(test_path + test_images[i]), cmap = 'gray')\n",
        "  plt.suptitle('Test images', fontsize = 16, fontweight = 'bold', y = 1.02)\n",
        "\n",
        "plt.show()"
      ]
    },
    {
      "cell_type": "code",
      "execution_count": null,
      "metadata": {
        "id": "7Ny54edb_DE9"
      },
      "outputs": [],
      "source": [
        "test_datagen = ImageDataGenerator(rescale = 1./255)"
      ]
    },
    {
      "cell_type": "code",
      "execution_count": null,
      "metadata": {
        "id": "7rLfCkB9B3_D"
      },
      "outputs": [],
      "source": [
        "test = test_datagen.flow_from_directory(directory = \"/content/drive/MyDrive/DL_Hackathon/dataset/test/test_images\", class_mode = None, target_size = (96, 96), batch_size = 1, shuffle = False)"
      ]
    },
    {
      "cell_type": "code",
      "execution_count": null,
      "metadata": {
        "id": "Zvl5xCuy99hM"
      },
      "outputs": [],
      "source": [
        "predictions = model.predict(test, steps = 332)"
      ]
    },
    {
      "cell_type": "code",
      "execution_count": null,
      "metadata": {
        "id": "lYhe-_1bSXX3"
      },
      "outputs": [],
      "source": [
        "predictions[:20]"
      ]
    },
    {
      "cell_type": "code",
      "execution_count": null,
      "metadata": {
        "id": "67h0KLGnkj_l"
      },
      "outputs": [],
      "source": [
        "predicted_class = predictions.round()"
      ]
    },
    {
      "cell_type": "code",
      "execution_count": null,
      "metadata": {
        "id": "l2M58fzUlOto"
      },
      "outputs": [],
      "source": [
        "predicted_class[:5]"
      ]
    },
    {
      "cell_type": "code",
      "execution_count": null,
      "metadata": {
        "id": "2BFInflnlqNv"
      },
      "outputs": [],
      "source": [
        "# predicted_class = predicted_class.reshape(1, -1)\n",
        "predicted_class = predicted_class.tolist()"
      ]
    },
    {
      "cell_type": "code",
      "execution_count": null,
      "metadata": {
        "id": "zNHIyqhYyI0Y"
      },
      "outputs": [],
      "source": [
        "predicted_class = np.argmax(predictions, axis = 1)"
      ]
    },
    {
      "cell_type": "code",
      "execution_count": null,
      "metadata": {
        "id": "QxjYu1l9026H"
      },
      "outputs": [],
      "source": [
        "file_id = [x.replace('test_images/', '').replace('.jpg', '') for x in test.filenames]"
      ]
    },
    {
      "cell_type": "code",
      "execution_count": null,
      "metadata": {
        "id": "c4E2dLu_AJxI"
      },
      "outputs": [],
      "source": [
        "output = pd.DataFrame({'file_id': file_id, 'label': predicted_class})"
      ]
    },
    {
      "cell_type": "code",
      "execution_count": null,
      "metadata": {
        "id": "D1rEHhBVShYV"
      },
      "outputs": [],
      "source": [
        "output.head()"
      ]
    },
    {
      "cell_type": "code",
      "execution_count": null,
      "metadata": {
        "id": "Es8NoJChAVHY"
      },
      "outputs": [],
      "source": [
        "output.to_csv(\"test_data.csv\", index = False)"
      ]
    }
  ],
  "metadata": {
    "accelerator": "GPU",
    "colab": {
      "provenance": []
    },
    "gpuClass": "standard",
    "kernelspec": {
      "display_name": "Python 3",
      "name": "python3"
    },
    "language_info": {
      "name": "python"
    }
  },
  "nbformat": 4,
  "nbformat_minor": 0
}